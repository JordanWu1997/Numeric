{
 "cells": [
  {
   "cell_type": "markdown",
   "metadata": {
    "Collapsed": "false"
   },
   "source": [
    "# Introduction to Fixed-point Iteration\n",
    "<table align='left'> \n",
    "<tr> \n",
    "<td><img src='./Introduction_to_fixed_point_iteration.png' width='600' height='600'/></td>\n",
    "</tr>\n",
    "<tr>\n",
    "<td><img src='./Iteration_visulization.png' width='600' height='600'/></td> \n",
    "</tr> \n",
    "</table>"
   ]
  },
  {
   "cell_type": "markdown",
   "metadata": {
    "Collapsed": "false"
   },
   "source": [
    "# Uniqueness of Fixed-point Iteration\n",
    "<table align='left'> \n",
    "<tr> <td><img src='./uniqueness_pf_1.png' width='600' height='600'/></td></tr>\n",
    "<tr> <td><img src='./uniqueness_pf_2.png' width='600' height='600'/></td></tr>\n",
    "<tr> <td><img src='./uniqueness_pf_3.png' width='600' height='600'/></td></tr>\n",
    "</table>"
   ]
  },
  {
   "cell_type": "markdown",
   "metadata": {
    "Collapsed": "false"
   },
   "source": [
    "# Convergence from Fixed-point theorem\n",
    "<table align='left'> \n",
    "<tr> \n",
    "<td><img src='./Fixed_point_theorem.png' width='600' height='600'/></td>\n",
    "</tr>\n",
    "</table>"
   ]
  },
  {
   "cell_type": "markdown",
   "metadata": {
    "Collapsed": "false"
   },
   "source": [
    "# Psuedo Code of Fixed-point Iteration\n",
    "<table align='left'> \n",
    "<tr> \n",
    "<td><img src='./Pseudo_code_of_fixed_point_1.png' width='600' height='600'/></td>\n",
    "</tr>\n",
    "<tr>\n",
    "<td><img src='./Pseudo_code_of_fixed_point_2.png' width='600' height='600'/></td> \n",
    "</tr>  \n",
    "</table>"
   ]
  },
  {
   "cell_type": "code",
   "execution_count": 1,
   "metadata": {
    "Collapsed": "false"
   },
   "outputs": [],
   "source": [
    "def fixed_point(f, sp, tol=1e-9, rnd=10):\n",
    "    \n",
    "    import numpy as np\n",
    "    i=0; point = [sp]\n",
    "    \n",
    "    for i in range(rnd):\n",
    "        if isinstance(f(point[i]), complex) != True:\n",
    "            if abs(f(point[i]) - point[i]) < tol:\n",
    "                break\n",
    "            else: \n",
    "                try:\n",
    "                    point.append(f(point[i]))\n",
    "                except TypeError:\n",
    "                    point[-1] = np.nan\n",
    "                    print('Fixed point method failed')\n",
    "                    break\n",
    "        else:\n",
    "            point[-1] = np.nan\n",
    "            print('Fixed point method failed')\n",
    "            break\n",
    "      \n",
    "    print('The fixed point is %.3f' % point[-1])\n",
    "    return point[-1]"
   ]
  },
  {
   "cell_type": "markdown",
   "metadata": {
    "Collapsed": "false"
   },
   "source": [
    "<p><h2>Example 1: $g(x)=\\frac{1}{2}(10-x^3)^\\frac{1}{2}$</h2><p>"
   ]
  },
  {
   "cell_type": "code",
   "execution_count": 2,
   "metadata": {
    "Collapsed": "false"
   },
   "outputs": [
    {
     "name": "stdout",
     "output_type": "stream",
     "text": [
      "The fixed point is 1.365\n"
     ]
    }
   ],
   "source": [
    "fp1 = fixed_point(lambda x:(1/2)*(10-x**3)**(1/2),1)"
   ]
  },
  {
   "cell_type": "markdown",
   "metadata": {
    "Collapsed": "false"
   },
   "source": [
    "<p><h2>Example 2: $g(x)=(\\frac{10}{4+x})^\\frac{1}{2}$</h2></p>"
   ]
  },
  {
   "cell_type": "code",
   "execution_count": 3,
   "metadata": {
    "Collapsed": "false"
   },
   "outputs": [
    {
     "name": "stdout",
     "output_type": "stream",
     "text": [
      "The fixed point is 1.365\n"
     ]
    }
   ],
   "source": [
    "fp2 = fixed_point(lambda x:(10/(4+x))**(1/2),1)"
   ]
  },
  {
   "cell_type": "markdown",
   "metadata": {
    "Collapsed": "false"
   },
   "source": [
    "<p><h2>Example 3: $g(x)=(\\frac{10}{x}-4x)^\\frac{1}{2}$</h2></p>"
   ]
  },
  {
   "cell_type": "code",
   "execution_count": 4,
   "metadata": {
    "Collapsed": "false",
    "scrolled": true
   },
   "outputs": [
    {
     "name": "stdout",
     "output_type": "stream",
     "text": [
      "Fixed point method failed\n",
      "The fixed point is nan\n"
     ]
    }
   ],
   "source": [
    "fp3 = fixed_point(lambda x:((10/x)-4*x)**(1/2),1)"
   ]
  }
 ],
 "metadata": {
  "kernelspec": {
   "display_name": "Python 3",
   "language": "python",
   "name": "python3"
  },
  "language_info": {
   "codemirror_mode": {
    "name": "ipython",
    "version": 3
   },
   "file_extension": ".py",
   "mimetype": "text/x-python",
   "name": "python",
   "nbconvert_exporter": "python",
   "pygments_lexer": "ipython3",
   "version": "3.7.1"
  }
 },
 "nbformat": 4,
 "nbformat_minor": 4
}
