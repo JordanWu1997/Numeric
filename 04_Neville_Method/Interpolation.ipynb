{
 "cells": [
  {
   "cell_type": "markdown",
   "metadata": {},
   "source": [
    "# Neville's Iterated Interpolation"
   ]
  },
  {
   "cell_type": "markdown",
   "metadata": {},
   "source": [
    "# Example - specific point"
   ]
  },
  {
   "cell_type": "code",
   "execution_count": 2,
   "metadata": {},
   "outputs": [
    {
     "name": "stdout",
     "output_type": "stream",
     "text": [
      "0.915100000000001\n"
     ]
    },
    {
     "data": {
      "image/png": "[encoded data removed]",
      "text/plain": [
       "<Figure size 432x288 with 1 Axes>"
      ]
     },
     "metadata": {},
     "output_type": "display_data"
    }
   ],
   "source": [
    "import numpy as np\n",
    "import matplotlib.pyplot as plt\n",
    "\n",
    "x0 = 2.0; x1 = 2.2; x2 = 2.3\n",
    "y0 = 0.6931; y1 = 0.7885; y2 = 0.8329\n",
    "\n",
    "x = np.linspace(1.5, 3, 100)\n",
    "\n",
    "p01 = (x-x1)/(x0-x1)*y0 + (x-x0)/(x1-x0)*y1\n",
    "p12 = (x-x2)/(x1-x2)*y1 + (x-x1)/(x2-x1)*y2\n",
    "\n",
    "P = 1/(x2-x0) * ( (x-x0)*p12 - (x-x2)*p01 )\n",
    "\n",
    "def p(x):\n",
    "    x0 = 2.0; x1 = 2.2; x2 = 2.3\n",
    "    y0 = 0.6931; y1 = 0.7885; y2 = 0.8329\n",
    "    p01 = (x-x1)/(x0-x1)*y0 + (x-x0)/(x1-x0)*y1\n",
    "    p12 = (x-x2)/(x1-x2)*y1 + (x-x1)/(x2-x1)*y2\n",
    "    P = 1/(x2-x0) * ( (x-x0)*p12 - (x-x2)*p01 )\n",
    "    return P\n",
    "\n",
    "print(p(2.5))\n",
    "\n",
    "plt.plot(x, P, label='Lagrange poly')\n",
    "plt.plot(x0,y0,'go')\n",
    "plt.plot(x1,y1,'ro')\n",
    "plt.plot(x2,y2,'bo')\n",
    "plt.legend()\n",
    "plt.show()"
   ]
  },
  {
   "cell_type": "markdown",
   "metadata": {},
   "source": [
    "- - -"
   ]
  },
  {
   "cell_type": "markdown",
   "metadata": {},
   "source": [
    "# Pseudo Code Neville's Iterated Interpolation"
   ]
  },
  {
   "cell_type": "markdown",
   "metadata": {},
   "source": [
    "<table align='left'> \n",
    "<tr> \n",
    "<td><img src='./Neville_Method.png' width='450' height='200'/></td>\n",
    "</tr>\n",
    "</table>"
   ]
  },
  {
   "cell_type": "markdown",
   "metadata": {},
   "source": [
    "# Example - general case"
   ]
  },
  {
   "cell_type": "code",
   "execution_count": 1,
   "metadata": {},
   "outputs": [
    {
     "name": "stdout",
     "output_type": "stream",
     "text": [
      "0.7418999999999999\n"
     ]
    }
   ],
   "source": [
    "def Lag_Poly(x):\n",
    "    \n",
    "    import numpy as np\n",
    "    \n",
    "    x0 = [2.0, 2.2, 2.3]\n",
    "    y0 = [0.6931, 0.7885, 0.8329]\n",
    "    n = len(x0); P0 = np.zeros((n,n))\n",
    "    \n",
    "    #Set initial Conditions\n",
    "    for i in range(n):\n",
    "        P0[i][0] = y0[i]\n",
    "    \n",
    "    for i in range(1,n):\n",
    "        for j in range(1,i+1):\n",
    "            P0[i][j] = ((x-x0[i-j])*P0[i][j-1] - (x-x0[i])*P0[i-1][j-1]) / (x0[i]-x0[i-j])\n",
    "    \n",
    "    return (P0[n-1][n-1])\n",
    "    #return P0\n",
    "\n",
    "print(Lag_Poly(2.1))"
   ]
  }
 ],
 "metadata": {
  "kernelspec": {
   "display_name": "Python 3",
   "language": "python",
   "name": "python3"
  },
  "language_info": {
   "codemirror_mode": {
    "name": "ipython",
    "version": 3
   },
   "file_extension": ".py",
   "mimetype": "text/x-python",
   "name": "python",
   "nbconvert_exporter": "python",
   "pygments_lexer": "ipython3",
   "version": "3.6.5"
  }
 },
 "nbformat": 4,
 "nbformat_minor": 2
}
