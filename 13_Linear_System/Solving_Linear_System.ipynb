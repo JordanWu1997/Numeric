{
 "cells": [
  {
   "cell_type": "markdown",
   "metadata": {},
   "source": [
    "<p><h1>Psuedo Code of Gaussian Elimination</h1><p>\n",
    "    \n",
    "<table align='left'>\n",
    "    <tr>\n",
    "        <td><img src = 'Pseudo_Code_of_Gaussian_Eilmination.png' width='600' height='600' ></td>\n",
    "    </tr>\n",
    "</table>"
   ]
  },
  {
   "cell_type": "markdown",
   "metadata": {},
   "source": [
    "<p><h1>Example:</h1></p>\n",
    "<table align='left'>\n",
    "    <tr>\n",
    "        <td><img src = 'Example.png' width='600' height='600' ></td>\n",
    "    </tr>\n",
    "</table>"
   ]
  },
  {
   "cell_type": "code",
   "execution_count": 27,
   "metadata": {},
   "outputs": [
    {
     "name": "stdout",
     "output_type": "stream",
     "text": [
      "The solution is:\n",
      "X1 = -7.000\n",
      "X2 = 3.000\n",
      "X3 = 2.000\n",
      "X4 = 2.000\n"
     ]
    },
    {
     "name": "stderr",
     "output_type": "stream",
     "text": [
      "/home/jordanwu/anaconda3/lib/python3.6/site-packages/ipykernel_launcher.py:28: DeprecationWarning: elementwise != comparison failed; this will raise an error in the future.\n"
     ]
    }
   ],
   "source": [
    "import copy as cp\n",
    "import numpy as np\n",
    "\n",
    "# Augmented matrix\n",
    "Aug_mat = np.array([[1, -1, 2, -1, -8],\n",
    "                    [2, -2, 3, -3, -20],\n",
    "                    [1,  1, 1,  0, -2],\n",
    "                    [1, -1, 4,  3,  4]])\n",
    "\n",
    "# number of system equations\n",
    "n = len(Aug_mat)\n",
    "\n",
    "for i in range(n):\n",
    "    \n",
    "    # if pivot element is non-zero, do the elimination.\n",
    "    if Aug_mat[i][i] != 0:\n",
    "        for j in range(i, n-1):      \n",
    "            Aug_mat[j+1] = (Aug_mat[j+1] - (Aug_mat[j+1][i] / Aug_mat[i][i]) * Aug_mat[i])\n",
    "    \n",
    "    # else if pivot element is non-zero, do the change of permutation.\n",
    "    elif Aug_mat[i][i] == 0:\n",
    "        \n",
    "        # Find the nearest non-zero row.\n",
    "        A_tran = np.transpose(Aug_mat)\n",
    "        index = np.array(np.where(A_tran[i] != 0))\n",
    "        \n",
    "        # If the row is found, change the permutation between new row and original zero one.\n",
    "        if index != []:\n",
    "            try:\n",
    "                index = index[index > i][0]                \n",
    "                temp_a, temp_b = cp.deepcopy(Aug_mat[i]), cp.deepcopy(Aug_mat[index])\n",
    "                Aug_mat[i], Aug_mat[index]= temp_b, temp_a\n",
    "                \n",
    "            # If index is not larger than i, it means the previous row is found, which is not a solution. \n",
    "            except IndexError:\n",
    "                print('No unique solution exists')\n",
    "                break\n",
    "                \n",
    "            # After permutation changing, do the elimination.\n",
    "            for j in range(i, n-1):\n",
    "                Aug_mat[j+1] = (Aug_mat[j+1] - (Aug_mat[j+1][i]/Aug_mat[i][i]) * Aug_mat[i])\n",
    "        \n",
    "        # If the row is not found, this means no unique solution exists.\n",
    "        else:\n",
    "            print('No unique solution exists')\n",
    "            break\n",
    "            \n",
    "# Backward Institution\n",
    "x_list = np.zeros(n)\n",
    "x_list[-1] = (Aug_mat[-1][-1]/Aug_mat[-1][-2])\n",
    "\n",
    "for k in range(1,n):\n",
    "    i = (n-1)-k\n",
    "    all_sum = 0\n",
    "    for j in range(0,n):\n",
    "        all_sum += (Aug_mat[i][j] * x_list[j])\n",
    "    x_list[i] = (Aug_mat[i][-1] - all_sum) / Aug_mat[i][i]\n",
    "\n",
    "# Print results\n",
    "print('The solution is:')\n",
    "for i in range(len(x_list)):\n",
    "    print('X%i = %.3f'%(i+1, x_list[i]))"
   ]
  }
 ],
 "metadata": {
  "kernelspec": {
   "display_name": "Python 3",
   "language": "python",
   "name": "python3"
  },
  "language_info": {
   "codemirror_mode": {
    "name": "ipython",
    "version": 3
   },
   "file_extension": ".py",
   "mimetype": "text/x-python",
   "name": "python",
   "nbconvert_exporter": "python",
   "pygments_lexer": "ipython3",
   "version": "3.6.5"
  }
 },
 "nbformat": 4,
 "nbformat_minor": 2
}
