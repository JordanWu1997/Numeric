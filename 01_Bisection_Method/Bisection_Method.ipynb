{
 "cells": [
  {
   "cell_type": "markdown",
   "metadata": {
    "Collapsed": "false"
   },
   "source": [
    "<h1>Introduction to Bisection method</h1>\n",
    "<table align='left'> \n",
    "<tr> \n",
    "<td><img src='./Bisection_introduction.png' width='600' height='600'/></td> \n",
    "</tr> \n",
    "</table>"
   ]
  },
  {
   "cell_type": "markdown",
   "metadata": {
    "Collapsed": "false"
   },
   "source": [
    "# Bisection method technique\n",
    "<table align='left'> \n",
    "<tr> \n",
    "<td><img src='./Bisection_Technique.png' width='600' height='600'/></td> \n",
    "</tr>\n",
    "<tr>\n",
    "<td><img src='./Bisection_Visualization.png' width='600' height='600'/></td> \n",
    "</tr> \n",
    "</table>"
   ]
  },
  {
   "cell_type": "markdown",
   "metadata": {
    "Collapsed": "false"
   },
   "source": [
    "# Pseudo Code of Bisection method\n",
    "<table align='left'> \n",
    "<tr> \n",
    "<td><img src='./Bisection_psuedo_code.png' width='600' height='600'/></td> \n",
    "</tr> \n",
    "</table>"
   ]
  },
  {
   "cell_type": "markdown",
   "metadata": {
    "Collapsed": "false"
   },
   "source": [
    "<p><h1>Part 1 - Find probable endpoints through plot</h1></p>\n",
    "<p><h2>$example.\\space\\space f(x)=x^3+4x^2-10$</h2></p>"
   ]
  },
  {
   "cell_type": "code",
   "execution_count": 1,
   "metadata": {
    "Collapsed": "false"
   },
   "outputs": [
    {
     "data": {
      "text/plain": [
       "<Figure size 1200x900 with 1 Axes>"
      ]
     },
     "metadata": {},
     "output_type": "display_data"
    }
   ],
   "source": [
    "import numpy as np\n",
    "import matplotlib.pyplot as plt\n",
    "\n",
    "def f(x):\n",
    "    y = x**3 + 4*x**2 - 10\n",
    "    return y\n",
    "\n",
    "x = np.linspace(-4, 4, 10000)\n",
    "\n",
    "plt.figure(figsize=(12,9))\n",
    "plt.plot(x,f(x))\n",
    "plt.axhline(y=0, ls='-', c='k')\n",
    "plt.axvline(x=0, ls='-', c='k')\n",
    "plt.axvline(x=1.25, ls='--', c='r')\n",
    "plt.axvline(x=1.5, ls='--', c='r')\n",
    "plt.xlabel('$x$', fontsize=16)\n",
    "plt.ylabel('$f(x)$', fontsize=16)\n",
    "plt.title('$f(x) = x^3 + 4x^2 - 10$', fontsize=20)\n",
    "plt.grid();plt.show()"
   ]
  },
  {
   "cell_type": "markdown",
   "metadata": {
    "Collapsed": "false"
   },
   "source": [
    "# Part 2 - Find roots of function through Bisection method\n",
    "<p><h2>$example.\\space\\space f(x)=x^3+4x^2-10$</h2></p>"
   ]
  },
  {
   "cell_type": "code",
   "execution_count": 2,
   "metadata": {
    "Collapsed": "false",
    "scrolled": true
   },
   "outputs": [],
   "source": [
    "def Bisection_method(f, a, b, tor=0.001, rnd=10):\n",
    "    '''\n",
    "    input: function, endpoints, torlerance, rounds to try\n",
    "    output: root of the function or failure message.\n",
    "    '''\n",
    "    import numpy as np\n",
    "    i = 1; root = np.nan\n",
    "    \n",
    "    while i < rnd:    \n",
    "        c = (a+b)/2\n",
    "        if (f(c)) == 0 or abs((a-b)/2) <= tor:\n",
    "            root = c\n",
    "            break\n",
    "        elif (f(c)) * (f(a)) > 0:\n",
    "            #a,c same sign\n",
    "            a = c\n",
    "        else:\n",
    "            #a,c different sign\n",
    "            b = c\n",
    "        i += 1\n",
    "    \n",
    "    if np.isnan(root) != True:\n",
    "        print('The root is %.3f' % root)\n",
    "    else:\n",
    "        print('The Bisection method failed')\n",
    "\n",
    "    return root\n"
   ]
  },
  {
   "cell_type": "code",
   "execution_count": 3,
   "metadata": {
    "Collapsed": "false"
   },
   "outputs": [
    {
     "name": "stdout",
     "output_type": "stream",
     "text": [
      "The root is 1.364\n"
     ]
    }
   ],
   "source": [
    "root = Bisection_method(lambda x:x**3+4*x**2-10 ,1.25, 1.50)"
   ]
  }
 ],
 "metadata": {
  "hide_input": false,
  "kernelspec": {
   "display_name": "Python 3",
   "language": "python",
   "name": "python3"
  },
  "language_info": {
   "codemirror_mode": {
    "name": "ipython",
    "version": 3
   },
   "file_extension": ".py",
   "mimetype": "text/x-python",
   "name": "python",
   "nbconvert_exporter": "python",
   "pygments_lexer": "ipython3",
   "version": "3.7.1"
  },
  "toc": {
   "base_numbering": 1,
   "nav_menu": {},
   "number_sections": true,
   "sideBar": true,
   "skip_h1_title": false,
   "title_cell": "Table of Contents",
   "title_sidebar": "Contents",
   "toc_cell": false,
   "toc_position": {},
   "toc_section_display": true,
   "toc_window_display": false
  },
  "varInspector": {
   "cols": {
    "lenName": 16,
    "lenType": 16,
    "lenVar": 40
   },
   "kernels_config": {
    "python": {
     "delete_cmd_postfix": "",
     "delete_cmd_prefix": "del ",
     "library": "var_list.py",
     "varRefreshCmd": "print(var_dic_list())"
    },
    "r": {
     "delete_cmd_postfix": ") ",
     "delete_cmd_prefix": "rm(",
     "library": "var_list.r",
     "varRefreshCmd": "cat(var_dic_list()) "
    }
   },
   "types_to_exclude": [
    "module",
    "function",
    "builtin_function_or_method",
    "instance",
    "_Feature"
   ],
   "window_display": false
  }
 },
 "nbformat": 4,
 "nbformat_minor": 4
}
