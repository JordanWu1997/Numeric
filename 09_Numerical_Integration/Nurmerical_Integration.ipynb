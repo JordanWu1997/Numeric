{
 "cells": [
  {
   "cell_type": "markdown",
   "metadata": {},
   "source": [
    "# Trapezoidal Rule: $\\int^b_af(x)dx = \\frac{h}{2}[f(x_0)+f(x_1)]-\\frac{h^3}{12}f^{(2)}(\\xi(x))$"
   ]
  },
  {
   "cell_type": "code",
   "execution_count": 34,
   "metadata": {},
   "outputs": [],
   "source": [
    "import numpy as np\n",
    "from math import exp\n",
    "\n",
    "def Trape_int(x_0, f_0):\n",
    "    x_list = [x for x in x_0]\n",
    "    f_list = [f for f in f_0]\n",
    "    integ = 0\n",
    "    for i in range(len(x_list)-1):\n",
    "        integ += (f_list[i]+f_list[i+1]) * (x_list[i+1]-x_list[i]) / 2\n",
    "    return integ"
   ]
  },
  {
   "cell_type": "markdown",
   "metadata": {},
   "source": [
    "# Simpson's Rule: $\\int^b_af(x)dx = \\frac{h}{3}[f(x_0)+4f(x_1)+f(x_2)]-\\frac{h^5}{90}f^{(4)}(\\xi(x))$"
   ]
  },
  {
   "cell_type": "code",
   "execution_count": 59,
   "metadata": {},
   "outputs": [],
   "source": [
    "def Simp_int(x_0, f_0):\n",
    "    \n",
    "    #Simpson rule need odd number of grid point (at least 3 points)\n",
    "    \n",
    "    if (len(x_0) > 2) & (len(x_0) % 2 == 1):\n",
    "        x_list = [x for x in x_0]\n",
    "        f_list = [f for f in f_0]\n",
    "        integ = 0\n",
    "        for i in range(1,(len(x_list)-1)):\n",
    "            if i % 2 == 1:   \n",
    "                integ += (f_list[i+1] + 4*f_list[i] + f_list[i-1]) * (x_list[i]-x_list[i-1]) / 3\n",
    "        return integ\n",
    "    else:\n",
    "        return np.nan "
   ]
  },
  {
   "cell_type": "markdown",
   "metadata": {},
   "source": [
    "# Example: $\\int^4_0e^x\\space dx = \\space \\int^2_0e^x\\space dx+\\int^4_2e^x\\space dx$"
   ]
  },
  {
   "cell_type": "code",
   "execution_count": 60,
   "metadata": {},
   "outputs": [
    {
     "name": "stdout",
     "output_type": "stream",
     "text": [
      "GP: 3\n",
      "-----------------\n",
      "AS: 53.598150\n",
      "TR: 70.376262\n",
      "SR: 56.769583\n"
     ]
    }
   ],
   "source": [
    "def exp_x(a, b):\n",
    "    #a, b = upper, lower\n",
    "    return exp(a) - exp(b)\n",
    "\n",
    "x_0 = np.linspace(0, 4, 3)\n",
    "f_0 = [exp(x) for x in x_0]\n",
    "\n",
    "print('GP: %i' % len(x_0))\n",
    "print('-----------------')\n",
    "print('AS: %.6f' % exp_x(4, 0))\n",
    "print('TR: %.6f' % Trape_int(x_0,f_0))\n",
    "print('SR: %.6f' % Simp_int(x_0, f_0))"
   ]
  },
  {
   "cell_type": "code",
   "execution_count": 70,
   "metadata": {},
   "outputs": [
    {
     "name": "stdout",
     "output_type": "stream",
     "text": [
      "GP: 103\n",
      "-----------------\n",
      "AS: 53.598150\n",
      "TR: 53.605019\n",
      "SR: 53.598151\n"
     ]
    }
   ],
   "source": [
    "x_0 = np.linspace(0, 4, 103)\n",
    "f_0 = [exp(x) for x in x_0]\n",
    "\n",
    "print('GP: %i' % len(x_0))\n",
    "print('-----------------')\n",
    "print('AS: %.6f' % exp_x(4, 0))\n",
    "print('TR: %.6f' % Trape_int(x_0,f_0))\n",
    "print('SR: %.6f' % Simp_int(x_0, f_0))"
   ]
  }
 ],
 "metadata": {
  "kernelspec": {
   "display_name": "Python 3",
   "language": "python",
   "name": "python3"
  },
  "language_info": {
   "codemirror_mode": {
    "name": "ipython",
    "version": 3
   },
   "file_extension": ".py",
   "mimetype": "text/x-python",
   "name": "python",
   "nbconvert_exporter": "python",
   "pygments_lexer": "ipython3",
   "version": "3.6.5"
  }
 },
 "nbformat": 4,
 "nbformat_minor": 2
}
