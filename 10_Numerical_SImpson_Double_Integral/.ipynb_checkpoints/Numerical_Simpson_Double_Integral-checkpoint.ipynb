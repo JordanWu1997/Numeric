{
 "cells": [
  {
   "cell_type": "markdown",
   "metadata": {
    "Collapsed": "false"
   },
   "source": [
    "# Composite Numerical Integration\n",
    "<table align='center'> \n",
    "    <tr>\n",
    "        <td><img src=\"Composite_Numerical_Integration.png\" width='600' height='600'></td>\n",
    "    </tr>\n",
    "    <tr>\n",
    "        <td><img src=\"Integral_Demo.png\" width='600' height='600'></td>\n",
    "    </tr>\n",
    "    <tr>\n",
    "        <td><img src=\"Derive_to_Composite_Simpson_Rule.png\" width='600' height='600'></td>\n",
    "    </tr>\n",
    "</table>"
   ]
  },
  {
   "cell_type": "markdown",
   "metadata": {
    "Collapsed": "false"
   },
   "source": [
    "# Composite Simpson Rule\n",
    "<table align='center'> \n",
    "    <tr>\n",
    "        <td><img src=\"Composite_Simpson_Rule.png\" width='600' height='600'></td>\n",
    "    </tr>\n",
    "</table>"
   ]
  },
  {
   "cell_type": "markdown",
   "metadata": {
    "Collapsed": "false"
   },
   "source": [
    "#  Pseudo Code of Simpson Double Integral\n",
    "<table align='center'> \n",
    "<td><img src=\"Pseudo_code_Simpson_Double_integral.png\" width='600' height='600'/></td>\n",
    "</table>"
   ]
  },
  {
   "cell_type": "markdown",
   "metadata": {
    "Collapsed": "false"
   },
   "source": [
    "# Example: $\\int^{2.0}_{1.4}\\int^{1.5}_{1.0}\\ln(x+2y)\\space dydx$"
   ]
  },
  {
   "cell_type": "code",
   "execution_count": 1,
   "metadata": {
    "Collapsed": "false"
   },
   "outputs": [
    {
     "name": "stdout",
     "output_type": "stream",
     "text": [
      "Result: 0.429555\n"
     ]
    }
   ],
   "source": [
    "import numpy as np\n",
    "\n",
    "a, b = 1.4, 2.0\n",
    "n, m = 10, 10\n",
    "h = (b-a)/n\n",
    "\n",
    "def d(x): return 1.5\n",
    "def c(x): return 1.0\n",
    "def f(x,y): return np.log(x+2*y)\n",
    "\n",
    "# J1, J2, J3: END TERMS, EVEN TERMS, ODD TERMS\n",
    "J1, J2, J3 = 0, 0, 0\n",
    "\n",
    "for i in range(0, n+1):\n",
    "    x = a + i*h\n",
    "    HX = (d(x)-c(x))/m\n",
    "    \n",
    "    # K1, K2, K3: END TERMS, EVEN TERMS, ODD TERMS\n",
    "    K1, K2, K3 = (f(x,d(x)) + f(x,c(x))), 0, 0\n",
    "    for j in range(1, m):\n",
    "        y = c(x) + j*HX\n",
    "        Q = f(x,y)\n",
    "        if j%2 == 0:\n",
    "            K2 += Q\n",
    "        else:\n",
    "            K3 += Q\n",
    "\n",
    "    L = (K1 + 2*K2 + 4*K3)*HX/3\n",
    "    if i == 0 or i == n:\n",
    "        J1 += L\n",
    "    elif i %2 == 0:\n",
    "        J2 += L\n",
    "    else:\n",
    "        J3 += L\n",
    "\n",
    "J = (h/3) * (J1 + 2*J2 + 4*J3)\n",
    "print('Result: %.6f' % J)"
   ]
  },
  {
   "cell_type": "markdown",
   "metadata": {
    "Collapsed": "false"
   },
   "source": [
    "# Example: $\\int^{0.5}_{0.1}\\int^{x^2}_{x^3}e^{\\frac{y}{x}}\\space dydx$"
   ]
  },
  {
   "cell_type": "code",
   "execution_count": 2,
   "metadata": {
    "Collapsed": "false"
   },
   "outputs": [
    {
     "name": "stdout",
     "output_type": "stream",
     "text": [
      "Result: 0.033305\n"
     ]
    }
   ],
   "source": [
    "import numpy as np\n",
    "\n",
    "a, b = 0.1, 0.5\n",
    "n, m = 10, 10\n",
    "h = (b-a)/n\n",
    "\n",
    "def d(x): return x**2\n",
    "def c(x): return x**3\n",
    "def f(x,y): return np.exp(y/x)\n",
    "\n",
    "# J1, J2, J3: END TERMS, EVEN TERMS, ODD TERMS\n",
    "J1, J2, J3 = 0, 0, 0\n",
    "\n",
    "for i in range(0, n+1):\n",
    "    x = a + i*h\n",
    "    HX = (d(x)-c(x))/m\n",
    "    \n",
    "    # K1, K2, K3: END TERMS, EVEN TERMS, ODD TERMS\n",
    "    K1, K2, K3 = (f(x,d(x)) + f(x,c(x))), 0, 0\n",
    "    for j in range(1, m):\n",
    "        y = c(x) + j*HX\n",
    "        Q = f(x,y)\n",
    "        \n",
    "        if j%2 == 0:\n",
    "            K2 += Q\n",
    "        else:\n",
    "            K3 += Q\n",
    "            \n",
    "    L = (K1 + 2*K2 + 4*K3)*HX/3\n",
    "    if i == 0 or i == n:\n",
    "        J1 += L\n",
    "    elif i %2 == 0:\n",
    "        J2 += L\n",
    "    else:\n",
    "        J3 += L\n",
    "        \n",
    "J = (h/3) * (J1 + 2*J2 + 4*J3)\n",
    "print('Result: %.6f' % J)"
   ]
  }
 ],
 "metadata": {
  "kernelspec": {
   "display_name": "Python 3",
   "language": "python",
   "name": "python3"
  },
  "language_info": {
   "codemirror_mode": {
    "name": "ipython",
    "version": 3
   },
   "file_extension": ".py",
   "mimetype": "text/x-python",
   "name": "python",
   "nbconvert_exporter": "python",
   "pygments_lexer": "ipython3",
   "version": "3.7.1"
  }
 },
 "nbformat": 4,
 "nbformat_minor": 4
}
