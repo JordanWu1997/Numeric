{
 "cells": [
  {
   "cell_type": "markdown",
   "metadata": {
    "Collapsed": "false"
   },
   "source": [
    "# Hermite Polynomial with divided difference\n",
    "- ## *Introduction*##\n",
    "\n",
    "<table align='left'> \n",
    "<tr> \n",
    "<td><img src='./Introduction_of_Hermite.png' width='450' height='200'/></td>\n",
    "</tr>\n",
    "</table>"
   ]
  },
  {
   "cell_type": "markdown",
   "metadata": {
    "Collapsed": "false"
   },
   "source": [
    "* * *"
   ]
  },
  {
   "cell_type": "markdown",
   "metadata": {
    "Collapsed": "false"
   },
   "source": [
    "# Pseudo Code of Hermite Poly with Divided Difference\n",
    "- ## *Pseudo Code* ##\n",
    "\n",
    "<table align='left'> \n",
    "<tr> \n",
    "<td><img src='./Pseudo_code_of_Hermite_Divided.png' width='450' height='200'/></td>\n",
    "</tr>\n",
    "</table>"
   ]
  },
  {
   "cell_type": "markdown",
   "metadata": {
    "Collapsed": "false"
   },
   "source": [
    "- ## *Visulization of Algorithm*\n",
    "$\\begin{bmatrix}\n",
    "    P_0 \\\\\n",
    "    P_1 & \\mathbf P_{01} \\\\\n",
    "    P_2 & P_{12} & P_{012} \\\\\n",
    "    P_3 & \\mathbf P_{23} & P_{123} & P_{0123} \\\\\n",
    "    P_4 & P_{24} & P_{234} & P_{1234} & P_{01234} \\\\ \n",
    "    P_5 & \\mathbf P_{25} & P_{345} & P_{2345} & P_{12345} & P_{012345}\\\\\n",
    "\\end{bmatrix}$"
   ]
  },
  {
   "cell_type": "markdown",
   "metadata": {
    "Collapsed": "false"
   },
   "source": [
    "# Example"
   ]
  },
  {
   "cell_type": "code",
   "execution_count": 1,
   "metadata": {
    "Collapsed": "false"
   },
   "outputs": [],
   "source": [
    "import numpy as np\n",
    "\n",
    "def Hermite_Poly(x, x0, p_d0, p_d1):\n",
    "\n",
    "    # Construct new z0, P0 with x0, P_d0, P_d1\n",
    "    z0 = []; P0 = []; all_sum = 0\n",
    "    for i in range(len(x0)):\n",
    "        z0.append(x0[i]);  z0.append(x0[i])\n",
    "        P0.append(P_d0[i]);  P0.append(P_d0[i]) \n",
    "        \n",
    "    # Start Calculation ...\n",
    "    F = np.zeros((len(P0), len(P0)))\n",
    "\n",
    "    # 1st Column (0th divided difference)\n",
    "    for i in range(len(P0)):\n",
    "        F[i][0] = P0[i]\n",
    "\n",
    "    # 2nd Column (1st divided difference)\n",
    "    for i in range(len(P0)-1):\n",
    "        if i % 2 == 0:  \n",
    "            F[i+1][1] = P_d1[i//2]   # For z_i = z_i+1 = x_i                                       \n",
    "        else:\n",
    "            F[i+1][1] = (F[i+1][0] - F[i][0]) / (z0[i+1] - z0[i])\n",
    "            \n",
    "    # calculate coef with divided difference\n",
    "    for i in range(len(P0)-2):\n",
    "        for j in range(i+1):\n",
    "            F[i+2][j+2] = (F[i+2][j+1] - F[i+1][j+1]) / (z0[i+2] - z0[i-j])\n",
    "            \n",
    "    # calculate value of HP at x    \n",
    "    for i in range(0,len(P0)-1):\n",
    "        value = F[i+1][i+1]\n",
    "        for j in range(0,i+1):\n",
    "            value *= (x-z0[j])\n",
    "        all_sum += value\n",
    "        \n",
    "    return (F[0][0] + all_sum)"
   ]
  },
  {
   "cell_type": "markdown",
   "metadata": {
    "Collapsed": "false"
   },
   "source": [
    "# Result"
   ]
  },
  {
   "cell_type": "code",
   "execution_count": 2,
   "metadata": {
    "Collapsed": "false"
   },
   "outputs": [
    {
     "name": "stdout",
     "output_type": "stream",
     "text": [
      "0.5118277017283951\n"
     ]
    }
   ],
   "source": [
    "# Set up initial condition\n",
    "x0 = [1.3, 1.6, 1.9]\n",
    "P_d0 = [ 0.6200860,  0.4554022,  0.2818186]\n",
    "P_d1 = [-0.5220232, -0.5698959, -0.5811571]\n",
    "\n",
    "print(Hermite_Poly(1.5, x0, P_d0, P_d1))"
   ]
  }
 ],
 "metadata": {
  "kernelspec": {
   "display_name": "Python 3",
   "language": "python",
   "name": "python3"
  },
  "language_info": {
   "codemirror_mode": {
    "name": "ipython",
    "version": 3
   },
   "file_extension": ".py",
   "mimetype": "text/x-python",
   "name": "python",
   "nbconvert_exporter": "python",
   "pygments_lexer": "ipython3",
   "version": "3.7.1"
  }
 },
 "nbformat": 4,
 "nbformat_minor": 4
}
