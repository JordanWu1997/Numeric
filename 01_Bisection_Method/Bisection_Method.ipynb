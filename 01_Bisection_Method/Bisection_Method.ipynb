{
 "cells": [
  {
   "cell_type": "markdown",
   "metadata": {},
   "source": [
    "# Introduction to Bisection method\n",
    "<table align='left'> \n",
    "<tr> \n",
    "<td><img src='./Bisection_introduction.png' width='450' height='200'/></td> \n",
    "</tr> \n",
    "</table>"
   ]
  },
  {
   "cell_type": "markdown",
   "metadata": {},
   "source": [
    "# Bisection method technique\n",
    "<table align='center'> \n",
    "<tr> \n",
    "<td><img src='./Bisection_Technique.png' width='450' height='200'/></td> \n",
    "<td><img src='./Bisection_Visualization.png' width='450' height='200'/></td> \n",
    "</tr> \n",
    "</table>"
   ]
  },
  {
   "cell_type": "markdown",
   "metadata": {},
   "source": [
    "# Psuedo Code of Bisection method\n",
    "<table align='left'> \n",
    "<tr> \n",
    "<td><img src='./Bisection_psuedo_code.png' width='450' height='200'/></td> \n",
    "</tr> \n",
    "</table>"
   ]
  },
  {
   "cell_type": "markdown",
   "metadata": {},
   "source": [
    "# Part 1 - Find probable endpoints through plot \n",
    "$e.g.\\space\\space f(x)=x^3+4x^2-10$"
   ]
  },
  {
   "cell_type": "code",
   "execution_count": 10,
   "metadata": {},
   "outputs": [
    {
     "data": {
      "image/png": "[encoded data removed]",
      "text/plain": [
       "<Figure size 432x288 with 1 Axes>"
      ]
     },
     "metadata": {},
     "output_type": "display_data"
    }
   ],
   "source": [
    "import numpy as np\n",
    "import matplotlib.pyplot as plt\n",
    "\n",
    "def f(x):\n",
    "    y = x**3 + 4*x**2 - 10\n",
    "    return y\n",
    "\n",
    "x = np.linspace(-5, 5, 10000)\n",
    "\n",
    "plt.plot(x,f(x))\n",
    "plt.hlines(0, -5, 5)\n",
    "plt.vlines(1.0, -100, 100, linestyles='dashed')\n",
    "plt.vlines(1.8, -100, 100, linestyles='dashed')\n",
    "plt.xlabel('x')\n",
    "plt.ylabel('f(x)')\n",
    "plt.title('f(x) = x^3 + 4*x^2 - 10')\n",
    "plt.grid()\n",
    "plt.show()"
   ]
  },
  {
   "cell_type": "markdown",
   "metadata": {},
   "source": [
    "# Part 2 - Find roots of function through Bisection method\n",
    "$e.g.\\space\\space f(x)=x^3+4x^2-10$"
   ]
  },
  {
   "cell_type": "code",
   "execution_count": 2,
   "metadata": {
    "scrolled": true
   },
   "outputs": [
    {
     "name": "stdout",
     "output_type": "stream",
     "text": [
      "The root is 1.3642578125\n",
      "The root is 1.36474609375\n",
      "The root is 1.364990234375\n"
     ]
    }
   ],
   "source": [
    "# find the roots of f(x) = x^3 + 4*x^2 - 10\n",
    "# a and b come from plot of the function\n",
    "\n",
    "a = 1.25\n",
    "b = 1.50\n",
    "tor = 0.001\n",
    "\n",
    "i = 1\n",
    "rnd = 10\n",
    "\n",
    "while i <= rnd:\n",
    "    \n",
    "    c = (a+b)/2\n",
    "    \n",
    "    if (c**3 + 4*c**2 -10) == 0 or abs((a-b)/2) <= tor:\n",
    "        print('The root is '+ str(c))\n",
    "    \n",
    "    if (c**3 + 4*c**2 -10) * (a**3 + 4*a**2 -10) > 0:\n",
    "        #a,c same sign\n",
    "        a = c\n",
    "    else:\n",
    "        #a,c different sign\n",
    "        b = c\n",
    "\n",
    "    i += 1"
   ]
  }
 ],
 "metadata": {
  "kernelspec": {
   "display_name": "Python 3",
   "language": "python",
   "name": "python3"
  },
  "language_info": {
   "codemirror_mode": {
    "name": "ipython",
    "version": 3
   },
   "file_extension": ".py",
   "mimetype": "text/x-python",
   "name": "python",
   "nbconvert_exporter": "python",
   "pygments_lexer": "ipython3",
   "version": "3.6.5"
  }
 },
 "nbformat": 4,
 "nbformat_minor": 2
}
