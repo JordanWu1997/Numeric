{
 "cells": [
  {
   "cell_type": "markdown",
   "metadata": {
    "Collapsed": "false"
   },
   "source": [
    "<p><h1>Systems of Differential Equations</h1></p>\n",
    "<table align='left'>\n",
    "    <tr>\n",
    "        <td><img src='System_Equations.png' width='600' height='600'></td>\n",
    "    </tr>\n",
    "</table>"
   ]
  },
  {
   "cell_type": "markdown",
   "metadata": {
    "Collapsed": "false"
   },
   "source": [
    "<p><h1>Lipschitz Condition</h1></p>\n",
    "<table align='left'>\n",
    "    <tr>\n",
    "        <td><img src='Lipschitz_Condition.png' width='600' height='600'></td>\n",
    "    </tr>\n",
    "</table>"
   ]
  },
  {
   "cell_type": "markdown",
   "metadata": {
    "Collapsed": "false"
   },
   "source": [
    "<p><h1>Runge-Kutta Method</h1></p>\n",
    "<table align='left'>\n",
    "    <tr>\n",
    "        <td><img src='./Thm_1.png' width='600' height='600'></td>\n",
    "    </tr>\n",
    "    <tr>\n",
    "        <td><img src='./Thm_2.png' width='600' height='600'></td>\n",
    "    </tr>\n",
    "    <tr>\n",
    "        <td><img src='./Thm_demo.png' width='600' height='600'></td>\n",
    "    </tr>\n",
    "    <tr>\n",
    "        <td><img src='./Thm_3.png' width='600' height='600'></td>\n",
    "    </tr>\n",
    "    <tr>\n",
    "        <td><img src='./Thm_4.png' width='600' height='600'></td>\n",
    "    </tr>\n",
    "    \n",
    "</table>"
   ]
  },
  {
   "cell_type": "markdown",
   "metadata": {
    "Collapsed": "false"
   },
   "source": [
    "<p><h1>Psuedo Code of Runge-Kutta Method</h1></p>\n",
    "<table align='left'>\n",
    "    <tr>\n",
    "        <td><img src='./Pseudo_Code_of_Runge_Kutta_Method.png' width='600' height='600'></td>\n",
    "    </tr>\n",
    "</table>"
   ]
  },
  {
   "cell_type": "markdown",
   "metadata": {
    "Collapsed": "false"
   },
   "source": [
    "<p><h2>$Example:\n",
    "    \\left\\{\n",
    "        \\begin{array}{}\n",
    "            \\frac{dI_1}{dt} = f_1(t,I_1,I_2) = -4I_1 + 3I_2 + 6 \\\\\n",
    "            \\frac{dI_2}{dt} = f_2(t,I_1,I_2) = -2.4I_1 + 1.6I_2 + 3.6 \\\\\n",
    "            I_1(0) = I_2(0) = 0.5;\\space 0\\leq t \\leq 0.5;\\space h=0.1\\\\\n",
    "        \\end{array}\n",
    "    \\right.$</h2><p>"
   ]
  },
  {
   "cell_type": "code",
   "execution_count": 1,
   "metadata": {
    "Collapsed": "false"
   },
   "outputs": [
    {
     "name": "stdout",
     "output_type": "stream",
     "text": [
      "| t = 0.000 | I1 = 0.0000000 | I2 = 0.0000000 |\n",
      "| t = 0.100 | I1 = 0.5382552 | I2 = 0.3196262 |\n",
      "| t = 0.200 | I1 = 0.9684987 | I2 = 0.5687822 |\n",
      "| t = 0.300 | I1 = 1.3107190 | I2 = 0.7607331 |\n",
      "| t = 0.400 | I1 = 1.5812652 | I2 = 0.9063206 |\n",
      "| t = 0.500 | I1 = 1.7935075 | I2 = 1.0144024 |\n"
     ]
    }
   ],
   "source": [
    "import numpy as np\n",
    "\n",
    "def f1(t, I1, I2):\n",
    "    return -4*I1 + 3*I2 + 6\n",
    "def f2(t, I1, I2):\n",
    "    return -2.4*I1 + 1.6*I2 + 3.6\n",
    "\n",
    "n = 2; h = 0.1; period = 6\n",
    "\n",
    "w = np.zeros((n,period))\n",
    "k1 = np.zeros((n,period))\n",
    "k2 = np.zeros((n,period))\n",
    "k3 = np.zeros((n,period))\n",
    "k4 = np.zeros((n,period))\n",
    "\n",
    "t = [i*h for i in range(period)]\n",
    "\n",
    "for i in range(period-1):\n",
    "    k1[0][i], k1[1][i] = h*f1(t[i], w[0][i], w[1][i]), h*f2(t[i], w[0][i], w[1][i])\n",
    "    k2[0][i], k2[1][i] = h*f1(t[i]+h/2, w[0][i]+k1[0][i]/2, w[1][i]+k1[1][i]/2), h*f2(t[i]+h/2, w[0][i]+k1[0][i]/2, w[1][i]+k1[1][i]/2)\n",
    "    k3[0][i], k3[1][i] = h*f1(t[i]+h/2, w[0][i]+k2[0][i]/2, w[1][i]+k2[1][i]/2), h*f2(t[i]+h/2, w[0][i]+k2[0][i]/2, w[1][i]+k2[1][i]/2)\n",
    "    k4[0][i], k4[1][i] = h*f1(t[i+1], w[0][i]+k3[0][i], w[1][i]+k3[1][i]), h*f2(t[i+1], w[0][i]+k3[0][i], w[1][i]+k3[1][i])\n",
    "    w[0][i+1] = w[0][i] + 1/6*(k1[0][i]+2*k2[0][i]+2*k3[0][i]+k4[0][i])\n",
    "    w[1][i+1] = w[1][i] + 1/6*(k1[1][i]+2*k2[1][i]+2*k3[1][i]+k4[1][i])\n",
    "\n",
    "for i in range(len(t)):\n",
    "    print('| t = %.3f | I1 = %.7f | I2 = %.7f |' % (t[i],w[0][i],w[1][i]))"
   ]
  },
  {
   "cell_type": "code",
   "execution_count": 2,
   "metadata": {
    "Collapsed": "false"
   },
   "outputs": [
    {
     "name": "stdout",
     "output_type": "stream",
     "text": [
      "| t = 0.000 | I1 = 0.0000000 | I2 = 0.0000000 |\n",
      "| t = 0.100 | I1 = 0.5382552 | I2 = 0.3196262 |\n",
      "| t = 0.200 | I1 = 0.9684987 | I2 = 0.5687822 |\n",
      "| t = 0.300 | I1 = 1.3107190 | I2 = 0.7607331 |\n",
      "| t = 0.400 | I1 = 1.5812652 | I2 = 0.9063206 |\n",
      "| t = 0.500 | I1 = 1.7935075 | I2 = 1.0144024 |\n"
     ]
    }
   ],
   "source": [
    "import numpy as np\n",
    "\n",
    "def f(t, I1, I2):\n",
    "    f1 = -4*I1 + 3*I2 + 6\n",
    "    f2 = -2.4*I1 + 1.6*I2 + 3.6\n",
    "    return f1, f2 \n",
    "\n",
    "t_start, t_end, interval = 0, 0.5, 5\n",
    "\n",
    "# number of system equations\n",
    "n = 2 \n",
    "# width of each interval\n",
    "h = (t_end - t_start)/interval\n",
    "\n",
    "w  = np.zeros((n, interval+1))\n",
    "k1 = np.zeros((n, interval+1))\n",
    "k2 = np.zeros((n, interval+1))\n",
    "k3 = np.zeros((n, interval+1))\n",
    "k4 = np.zeros((n, interval+1))\n",
    "\n",
    "t = [i*h for i in range(interval+1)]\n",
    "\n",
    "for i in range(interval):\n",
    "    k1[0][i], k1[1][i] = h * np.array((f(t[i], w[0][i], w[1][i])))\n",
    "    k2[0][i], k2[1][i] = h * np.array((f(t[i]+h/2, w[0][i]+k1[0][i]/2, w[1][i]+k1[1][i]/2)))\n",
    "    k3[0][i], k3[1][i] = h * np.array((f(t[i]+h/2, w[0][i]+k2[0][i]/2, w[1][i]+k2[1][i]/2)))\n",
    "    k4[0][i], k4[1][i] = h * np.array((f(t[i+1], w[0][i]+k3[0][i], w[1][i]+k3[1][i])))\n",
    "    \n",
    "    w[0][i+1] = w[0][i] + 1/6*(k1[0][i]+2*k2[0][i]+2*k3[0][i]+k4[0][i])\n",
    "    w[1][i+1] = w[1][i] + 1/6*(k1[1][i]+2*k2[1][i]+2*k3[1][i]+k4[1][i])\n",
    "\n",
    "for i in range(len(t)):\n",
    "    print('| t = %.3f | I1 = %.7f | I2 = %.7f |' % (t[i],w[0][i],w[1][i]))"
   ]
  },
  {
   "cell_type": "code",
   "execution_count": null,
   "metadata": {
    "Collapsed": "false"
   },
   "outputs": [],
   "source": []
  }
 ],
 "metadata": {
  "kernelspec": {
   "display_name": "Python 3",
   "language": "python",
   "name": "python3"
  },
  "language_info": {
   "codemirror_mode": {
    "name": "ipython",
    "version": 3
   },
   "file_extension": ".py",
   "mimetype": "text/x-python",
   "name": "python",
   "nbconvert_exporter": "python",
   "pygments_lexer": "ipython3",
   "version": "3.7.1"
  }
 },
 "nbformat": 4,
 "nbformat_minor": 4
}
