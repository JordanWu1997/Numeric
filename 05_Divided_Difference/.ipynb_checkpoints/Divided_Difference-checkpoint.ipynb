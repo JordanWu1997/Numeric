{
 "cells": [
  {
   "cell_type": "markdown",
   "metadata": {
    "Collapsed": "false"
   },
   "source": [
    "# Interpolation with Divided Difference\n",
    "## *Lagrange Polynomial*\n",
    "$P_n(x) = a_0 + a_1(x-x_0) + a_2(x-x_0) + \\cdots + a_n(x-x_0)(x-x_1)\\cdots(x-x_{n-1}),\\space which \\space agrees \\space function \\space f \\space at \\space x_0,\\space x_1, \\cdots,x_n$"
   ]
  },
  {
   "cell_type": "markdown",
   "metadata": {
    "Collapsed": "false"
   },
   "source": [
    "\n",
    "## Divided difference of function f with respect to different points\n",
    "### *0th divided difference:* $f[x_i] \\equiv f(x_n)$\n",
    "### *1st divided difference:* $f[x_i,x_{i+1}] \\equiv \\frac{f[x_{i+1}]~-~f[x_i]}{x_{i+1}~-~x_i}$\n",
    "### *2nd divided difference:* $f[x_i,x_{i+1},x_{i+2}] \\equiv \\frac{f[x_{i+1},x_{i+2}]~-~f[x_i,x_{i+1}]}{x_{i+2}~-~x_i}$"
   ]
  },
  {
   "cell_type": "markdown",
   "metadata": {
    "Collapsed": "false"
   },
   "source": [
    "* * *"
   ]
  },
  {
   "cell_type": "markdown",
   "metadata": {
    "Collapsed": "false"
   },
   "source": [
    "# Example"
   ]
  },
  {
   "cell_type": "code",
   "execution_count": 1,
   "metadata": {
    "Collapsed": "false"
   },
   "outputs": [],
   "source": [
    "def Divided_Difference(x, x0, P0):\n",
    "    \n",
    "    import numpy as np\n",
    "    \n",
    "    #Parameters\n",
    "    all_sum = 0\n",
    "    F = np.zeros((len(P0), len(P0)))\n",
    "    \n",
    "    #set up initial condition\n",
    "    for i in range(len(P0)):\n",
    "        F[i][0] = P0[i]\n",
    "\n",
    "    #calculate coef with divided difference\n",
    "    for i in range(len(P0)-1):\n",
    "        for j in range(i+1):\n",
    "            F[i+1][j+1] = (F[i+1][j] - F[i][j]) / (x0[i+1] - x0[i-j])\n",
    "    \n",
    "    #calculate the value of the function at x, except the first term\n",
    "    for i in range(0,len(P0)-1):\n",
    "        value = F[i+1][i+1]\n",
    "        for j in range(0,i+1):\n",
    "            value *= (x-x0[j])\n",
    "        all_sum += value\n",
    "    \n",
    "    #calculate the value of the function at x\n",
    "    return F[0][0] + all_sum"
   ]
  },
  {
   "cell_type": "code",
   "execution_count": 2,
   "metadata": {
    "Collapsed": "false"
   },
   "outputs": [
    {
     "data": {
      "text/plain": [
       "0.7418999999999999"
      ]
     },
     "execution_count": 2,
     "metadata": {},
     "output_type": "execute_result"
    }
   ],
   "source": [
    "x0 = [2.0, 2.2, 2.3]\n",
    "P0 = [0.6931, 0.7885, 0.8329]\n",
    "Divided_Difference(2.1, x0, P0)"
   ]
  },
  {
   "cell_type": "code",
   "execution_count": null,
   "metadata": {
    "Collapsed": "false"
   },
   "outputs": [],
   "source": []
  }
 ],
 "metadata": {
  "kernelspec": {
   "display_name": "Python 3",
   "language": "python",
   "name": "python3"
  },
  "language_info": {
   "codemirror_mode": {
    "name": "ipython",
    "version": 3
   },
   "file_extension": ".py",
   "mimetype": "text/x-python",
   "name": "python",
   "nbconvert_exporter": "python",
   "pygments_lexer": "ipython3",
   "version": "3.7.1"
  }
 },
 "nbformat": 4,
 "nbformat_minor": 4
}
