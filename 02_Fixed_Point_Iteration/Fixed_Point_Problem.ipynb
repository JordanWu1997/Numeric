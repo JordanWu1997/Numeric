{
 "cells": [
  {
   "cell_type": "markdown",
   "metadata": {},
   "source": [
    "# Introduction to Fixed-point Iteration\n",
    "<table align='center'> \n",
    "<tr> \n",
    "<td><img src='./Introduction_to_fixed_point_iteration.png' width='450' height='200'/></td> \n",
    "<td><img src='./Iteration_visulization.png' width='450' height='200'/></td> \n",
    "</tr> \n",
    "</table>"
   ]
  },
  {
   "cell_type": "markdown",
   "metadata": {},
   "source": [
    "# Uniqueness from Fixed-point theorem\n",
    "<table align='left'> \n",
    "<tr> \n",
    "<td><img src='./Fixed_point_theorem.png' width='450' height='200'/></td>\n",
    "</tr>\n",
    "</table>"
   ]
  },
  {
   "cell_type": "markdown",
   "metadata": {},
   "source": [
    "# Psuedo Code of Fixed-point Iteration\n",
    "<table align='left'> \n",
    "<tr> \n",
    "<td><img src='./Pseudo_code_of_fixed_point_1.png' width='450' height='200'/></td>\n",
    "</tr>\n",
    "<tr>\n",
    "<td><img src='./Pseudo_code_of_fixed_point_2.png' width='450' height='200'/></td> \n",
    "</tr>  \n",
    "</table>"
   ]
  },
  {
   "cell_type": "markdown",
   "metadata": {},
   "source": [
    "# Example - 1\n",
    "$g(x)=\\frac{1}{2}(10-x^3)^\\frac{1}{2}$"
   ]
  },
  {
   "cell_type": "code",
   "execution_count": 2,
   "metadata": {},
   "outputs": [
    {
     "name": "stdout",
     "output_type": "stream",
     "text": [
      "The point is 1.3652300134190583\n"
     ]
    }
   ],
   "source": [
    "def g1(x):\n",
    "    y = (1/2)*(10-x**3)**(1/2)\n",
    "    return y\n",
    "\n",
    "i = 0\n",
    "p = [1]\n",
    "tor = 0.00000000001\n",
    "\n",
    "while abs(g1(p[i]) - p[i]) > tor:\n",
    "    p.append(g1(p[i]))\n",
    "    i += 1\n",
    "\n",
    "print('The point is %s' % p[-1])"
   ]
  },
  {
   "cell_type": "markdown",
   "metadata": {},
   "source": [
    "# Example - 2\n",
    "$g(x)=(\\frac{10}{4+x})^\\frac{1}{2}$"
   ]
  },
  {
   "cell_type": "code",
   "execution_count": 1,
   "metadata": {},
   "outputs": [
    {
     "name": "stdout",
     "output_type": "stream",
     "text": [
      "The point is 1.3652300134072122\n"
     ]
    }
   ],
   "source": [
    "def g2(x):\n",
    "    y = (10/(4+x))**(1/2)\n",
    "    return y\n",
    "\n",
    "i = 0\n",
    "p = [1]\n",
    "tor = 0.00000000001\n",
    "\n",
    "while abs(g2(p[i]) - p[i]) > tor:\n",
    "    p.append(g2(p[i]))\n",
    "    i += 1\n",
    "\n",
    "print('The point is %s' % p[-1])"
   ]
  },
  {
   "cell_type": "markdown",
   "metadata": {},
   "source": [
    "# Example - 3\n",
    "$g(x)=(\\frac{10}{x}-4x)^\\frac{1}{2}$"
   ]
  },
  {
   "cell_type": "code",
   "execution_count": 2,
   "metadata": {
    "scrolled": true
   },
   "outputs": [
    {
     "ename": "TypeError",
     "evalue": "unsupported operand type(s) for -: 'NoneType' and 'int'",
     "output_type": "error",
     "traceback": [
      "\u001b[0;31m---------------------------------------------------------------------------\u001b[0m",
      "\u001b[0;31mTypeError\u001b[0m                                 Traceback (most recent call last)",
      "\u001b[0;32m<ipython-input-2-7e0539ebddef>\u001b[0m in \u001b[0;36m<module>\u001b[0;34m()\u001b[0m\n\u001b[1;32m      6\u001b[0m \u001b[0mtor\u001b[0m \u001b[0;34m=\u001b[0m \u001b[0;36m0.00000000001\u001b[0m\u001b[0;34m\u001b[0m\u001b[0m\n\u001b[1;32m      7\u001b[0m \u001b[0;34m\u001b[0m\u001b[0m\n\u001b[0;32m----> 8\u001b[0;31m \u001b[0;32mwhile\u001b[0m \u001b[0mabs\u001b[0m\u001b[0;34m(\u001b[0m\u001b[0mg3\u001b[0m\u001b[0;34m(\u001b[0m\u001b[0mp\u001b[0m\u001b[0;34m[\u001b[0m\u001b[0mi\u001b[0m\u001b[0;34m]\u001b[0m\u001b[0;34m)\u001b[0m \u001b[0;34m-\u001b[0m \u001b[0mp\u001b[0m\u001b[0;34m[\u001b[0m\u001b[0mi\u001b[0m\u001b[0;34m]\u001b[0m\u001b[0;34m)\u001b[0m \u001b[0;34m>\u001b[0m \u001b[0mtor\u001b[0m\u001b[0;34m:\u001b[0m\u001b[0;34m\u001b[0m\u001b[0m\n\u001b[0m\u001b[1;32m      9\u001b[0m     \u001b[0mp\u001b[0m\u001b[0;34m.\u001b[0m\u001b[0mappend\u001b[0m\u001b[0;34m(\u001b[0m\u001b[0mg3\u001b[0m\u001b[0;34m(\u001b[0m\u001b[0mp\u001b[0m\u001b[0;34m[\u001b[0m\u001b[0mi\u001b[0m\u001b[0;34m]\u001b[0m\u001b[0;34m)\u001b[0m\u001b[0;34m)\u001b[0m\u001b[0;34m\u001b[0m\u001b[0m\n\u001b[1;32m     10\u001b[0m     \u001b[0mi\u001b[0m \u001b[0;34m+=\u001b[0m \u001b[0;36m1\u001b[0m\u001b[0;34m\u001b[0m\u001b[0m\n",
      "\u001b[0;31mTypeError\u001b[0m: unsupported operand type(s) for -: 'NoneType' and 'int'"
     ]
    }
   ],
   "source": [
    "def g3(x):\n",
    "    y = ((10/x)-4*x)**(1/2)\n",
    "\n",
    "i = 0\n",
    "p = [1]\n",
    "tor = 0.00000000001\n",
    "\n",
    "while abs(g3(p[i]) - p[i]) > tor:\n",
    "    p.append(g3(p[i]))\n",
    "    i += 1\n",
    "\n",
    "print('The point is %s' % p[-1])"
   ]
  }
 ],
 "metadata": {
  "kernelspec": {
   "display_name": "Python 3",
   "language": "python",
   "name": "python3"
  },
  "language_info": {
   "codemirror_mode": {
    "name": "ipython",
    "version": 3
   },
   "file_extension": ".py",
   "mimetype": "text/x-python",
   "name": "python",
   "nbconvert_exporter": "python",
   "pygments_lexer": "ipython3",
   "version": "3.6.5"
  }
 },
 "nbformat": 4,
 "nbformat_minor": 2
}
