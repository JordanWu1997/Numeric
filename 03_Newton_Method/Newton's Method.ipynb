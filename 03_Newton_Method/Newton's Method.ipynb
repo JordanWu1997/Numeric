{
 "cells": [
  {
   "cell_type": "markdown",
   "metadata": {},
   "source": [
    "# Introduction to Newton's Method\n",
    "- ## Introduction ##\n",
    "<table align='center'> \n",
    "<tr> \n",
    "<td><img src='./Newton_method.png' width='450' height='200'/></td> \n",
    "<td><img src='./Newton_visualization.png' width='450' height='200'/></td> \n",
    "</tr> \n",
    "</table>\n",
    "- ## Convergence of Newton's Method ##\n",
    "<table align='center'> \n",
    "<tr> \n",
    "<td><img src='./Proof_of_convergence_1.png' width='450' height='200'/></td>\n",
    "</tr>\n",
    "<tr>\n",
    "<td><img src='./Proof_of_convergence_2.png' width='450' height='200'/></td> \n",
    "</tr>  \n",
    "</table>\n",
    "\n",
    "- ## Limit of Newton's Method ##\n",
    "<table align='center'> \n",
    "<tr> \n",
    "<td><img src='./Limit_of_newton.png' width='450' height='200'/></td>\n",
    "</tr>\n",
    "</table>"
   ]
  },
  {
   "cell_type": "markdown",
   "metadata": {},
   "source": [
    "# Introduction to Secant Method\n",
    "<table align='center'> \n",
    "<tr> \n",
    "<td><img src='./Secant_method.png' width='450' height='200'/></td>\n",
    "</tr>\n",
    "</table>"
   ]
  },
  {
   "cell_type": "markdown",
   "metadata": {},
   "source": [
    "# Introduction to False Position\n",
    "<table align='center'> \n",
    "<tr> \n",
    "<td><img src='./Introduction_of_false_position.png' width='450' height='200'/></td>\n",
    "</tr>\n",
    "</table>\n",
    "\n",
    "- ## Visualization of Secant Method and False Position ##\n",
    "<table align='center'> \n",
    "<tr> \n",
    "<td><img src='./Visualization.png' width='450' height='200'/></td>\n",
    "</tr>\n",
    "</table>"
   ]
  },
  {
   "cell_type": "markdown",
   "metadata": {},
   "source": [
    "* * *"
   ]
  },
  {
   "cell_type": "markdown",
   "metadata": {},
   "source": [
    "# Example: Newton's Method\n",
    "## *Pseudo Code of Newton's Method*\n",
    "<table align='left'> \n",
    "<tr> \n",
    "<td><img src='./Pseudo_code_newton.png' width='450' height='200'/></td>\n",
    "</tr>\n",
    "</table>"
   ]
  },
  {
   "cell_type": "code",
   "execution_count": 8,
   "metadata": {
    "scrolled": true
   },
   "outputs": [
    {
     "name": "stdout",
     "output_type": "stream",
     "text": [
      "0.7390851332151607\n"
     ]
    }
   ],
   "source": [
    "import math\n",
    "\n",
    "rnd = 100\n",
    "p = [0.5]\n",
    "#recommended:[0,1]\n",
    "\n",
    "def f(x):\n",
    "    y = math.cos(x) - x\n",
    "    return y\n",
    "\n",
    "def fd1(x):\n",
    "    y = -math.sin(x) - 1\n",
    "    return y\n",
    "    \n",
    "for i in range(0, rnd+1):\n",
    "    p.append(p[i] - f(p[i]) / fd1(p[i]))\n",
    "\n",
    "print(p[-1])"
   ]
  },
  {
   "cell_type": "markdown",
   "metadata": {},
   "source": [
    "# Example: Secant Method\n",
    "## *Pseudo Code of Secant Method*\n",
    "<table align='left'> \n",
    "<tr> \n",
    "<td><img src='./Pseudo_code_secant_method.png' width='450' height='200'/></td>\n",
    "</tr>\n",
    "</table>"
   ]
  },
  {
   "cell_type": "code",
   "execution_count": 9,
   "metadata": {},
   "outputs": [
    {
     "name": "stdout",
     "output_type": "stream",
     "text": [
      "0.7390851332151607\n"
     ]
    }
   ],
   "source": [
    "rnd = 5\n",
    "p = [0.1, 0.9]\n",
    "\n",
    "def f(x):\n",
    "    y = math.cos(x) - x\n",
    "    return y\n",
    "\n",
    "for i in range(0,rnd+2):\n",
    "    p.append(p[i+1]-(f(p[i+1]) * (p[i+1]-p[i]) / (f(p[i+1])-f(p[i])))) \n",
    "\n",
    "print(p[-1])"
   ]
  },
  {
   "cell_type": "markdown",
   "metadata": {},
   "source": [
    "# Example: False Position Method\n",
    "## *Pseudo Code of False Position Method*\n",
    "<table align='left'> \n",
    "<tr> \n",
    "<td><img src='./Pseudo_code_false_position_1.png' width='450' height='200'/></td>\n",
    "</tr>\n",
    "<tr>\n",
    "<td><img src='./Pseudo_code_false_position_2.png' width='450' height='200'/></td> \n",
    "</tr>  \n",
    "</table>"
   ]
  },
  {
   "cell_type": "markdown",
   "metadata": {},
   "source": [
    "### *(1) for-loop*"
   ]
  },
  {
   "cell_type": "code",
   "execution_count": 10,
   "metadata": {},
   "outputs": [
    {
     "name": "stdout",
     "output_type": "stream",
     "text": [
      "0.7390851332151607\n"
     ]
    }
   ],
   "source": [
    "rnd = 7\n",
    "p = [0.1, 0.9]\n",
    "\n",
    "def f(x):\n",
    "    y = math.cos(x) - x\n",
    "    return y\n",
    "\n",
    "#produce p3 \n",
    "p.append(f(p[1])-(f(p[0]) * (p[1]-p[0]) / (f(p[1])-f(p[0]))))\n",
    "\n",
    "#since p1*p2 < 0, if p2*p3 < 0, we choose p2,p3 for secant method\n",
    "#otherwise, we choose p1,p3 for secant method.\n",
    "\n",
    "for i in range(0,rnd+2):\n",
    "\n",
    "    if f(p[i])*f(p[i+1]) < 0:\n",
    "        p.append(p[i+2]-(f(p[i+2]) * (p[i+2]-p[i+1]) / (f(p[i+2])-f(p[i+1]))))\n",
    "        \n",
    "    elif f(p[i])*f(p[i+1]) > 0: \n",
    "        p.append(p[i+2]-(f(p[i+2]) * (p[i+2]-p[i]) / (f(p[i+2])-f(p[i])))) \n",
    "        \n",
    "print(p[-1])"
   ]
  },
  {
   "cell_type": "markdown",
   "metadata": {},
   "source": [
    "### *(2) while-loop*"
   ]
  },
  {
   "cell_type": "code",
   "execution_count": 11,
   "metadata": {},
   "outputs": [
    {
     "name": "stdout",
     "output_type": "stream",
     "text": [
      "0.7390851332188357\n"
     ]
    }
   ],
   "source": [
    "tor = 0.00000001\n",
    "p = [0.1, 0.9]\n",
    "\n",
    "def f(x):\n",
    "    y = math.cos(x) - x\n",
    "    return y\n",
    "\n",
    "#produce p3 \n",
    "p.append(f(p[1])-(f(p[0]) * (p[1]-p[0]) / (f(p[1])-f(p[0]))))\n",
    "\n",
    "#since p1*p2 < 0, if p2*p3 < 0, we choose p2,p3 for secant method\n",
    "#otherwise, we choose p1,p3 for secant method.\n",
    "\n",
    "i=0\n",
    "\n",
    "while abs(f(p[-1])) > tor:\n",
    "    \n",
    "    if f(p[i])*f(p[i+1]) < 0:\n",
    "        p.append(p[i+2]-(f(p[i+2]) * (p[i+2]-p[i+1]) / (f(p[i+2])-f(p[i+1]))))\n",
    "        \n",
    "    elif f(p[i])*f(p[i+1]) > 0: \n",
    "        p.append(p[i+2]-(f(p[i+2]) * (p[i+2]-p[i]) / (f(p[i+2])-f(p[i])))) \n",
    "\n",
    "    i+=1\n",
    "    \n",
    "print(p[-1])"
   ]
  }
 ],
 "metadata": {
  "kernelspec": {
   "display_name": "Python 3",
   "language": "python",
   "name": "python3"
  },
  "language_info": {
   "codemirror_mode": {
    "name": "ipython",
    "version": 3
   },
   "file_extension": ".py",
   "mimetype": "text/x-python",
   "name": "python",
   "nbconvert_exporter": "python",
   "pygments_lexer": "ipython3",
   "version": "3.6.5"
  }
 },
 "nbformat": 4,
 "nbformat_minor": 2
}
