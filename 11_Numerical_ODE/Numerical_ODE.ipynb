{
 "cells": [
  {
   "cell_type": "markdown",
   "metadata": {},
   "source": [
    "# Numerical ODE with Euler's method\n",
    "<table align='left'>\n",
    "    <tr>\n",
    "        <td><img src='./Euler_Method.png' width='600' height='600'></td>\n",
    "    </tr>\n",
    "</table>"
   ]
  },
  {
   "cell_type": "markdown",
   "metadata": {},
   "source": [
    "### $Euler's\\space Method:\n",
    "    \\left\\{\\begin{array}{}\\omega_0 = \\alpha \\\\\n",
    "    \\omega_{i+1} = \\omega_i+hf(t_i, \\omega_i) & for\\space i = 0,1,\\dots,N-1\n",
    "    \\end{array}\n",
    "    \\right.$"
   ]
  },
  {
   "cell_type": "markdown",
   "metadata": {},
   "source": [
    "<h1>Euler Method Demo</h1>\n",
    "<table align='left'>\n",
    "    <tr>\n",
    "        <td><img src='./Euler_Method_Demo.png' width='600' height='600'></td>\n",
    "    </tr>\n",
    "    <tr>\n",
    "        <td><img src='./fig3&fig4.png' width='600' height='600'></td>\n",
    "    </tr>\n",
    "</table>"
   ]
  },
  {
   "cell_type": "markdown",
   "metadata": {},
   "source": [
    "# Psuedo Code of Euler's Method\n",
    "<table align='left'>\n",
    "    <tr>\n",
    "        <td><img src='./Pseudo_Code_of_Euler_method.png' width='600' height='600'></td>\n",
    "    </tr>\n",
    "</table>"
   ]
  },
  {
   "cell_type": "markdown",
   "metadata": {},
   "source": [
    "## $Example:\n",
    "    \\left\\{\n",
    "        \\begin{array}{}\n",
    "            \\frac{dy}{dt} = y-t^2+1 &,0\\leq t \\leq 2\\\\\n",
    "            y(0) = 0.5\n",
    "        \\end{array}\n",
    "    \\right.$"
   ]
  },
  {
   "cell_type": "code",
   "execution_count": 59,
   "metadata": {},
   "outputs": [],
   "source": [
    "import numpy as np\n",
    "from math import exp\n",
    "\n",
    "def f(t,y):\n",
    "        return y-t**2+1\n",
    "\n",
    "def Numeric_Sol(f, N, t0, tf, w0):\n",
    "    h = (tf-t0)/N\n",
    "    t = [i*h for i in range(0,N+1)]\n",
    "    \n",
    "    # N sections but N+1 points\n",
    "    w = np.zeros(N+1)\n",
    "    w[0] = w0\n",
    "    \n",
    "    for i in range(0, N):\n",
    "        w[i+1] = w[i] + h*f(t[i],w[i])\n",
    "    return w\n",
    "\n",
    "def Analytic_Sol(N, t0, tf):\n",
    "    h = (tf-t0)/N\n",
    "    t = [i*h for i in range(0,N+1)]\n",
    "    \n",
    "    # N sections but N+1 points\n",
    "    w = np.zeros(N+1)\n",
    "    \n",
    "    for i in range(0, N+1):\n",
    "        w[i] = (t[i]+1)**2 - 0.5*np.exp(t[i])\n",
    "    return w"
   ]
  },
  {
   "cell_type": "markdown",
   "metadata": {},
   "source": [
    "## For N = 10"
   ]
  },
  {
   "cell_type": "code",
   "execution_count": 85,
   "metadata": {},
   "outputs": [
    {
     "name": "stdout",
     "output_type": "stream",
     "text": [
      " Numeric;  Analytic\n",
      "0.500000;  0.500000\n",
      "0.800000;  0.829299\n",
      "1.152000;  1.214088\n",
      "1.550400;  1.648941\n",
      "1.988480;  2.127230\n",
      "2.458176;  2.640859\n",
      "2.949811;  3.179942\n",
      "3.451773;  3.732400\n",
      "3.950128;  4.283484\n",
      "4.428154;  4.815176\n",
      "4.865785;  5.305472\n"
     ]
    }
   ],
   "source": [
    "N = 10\n",
    "print(' {};  {}'.format('Numeric','Analytic'))\n",
    "for i in range(N+1):\n",
    "    print('{:.6f};  {:.6f}'.format(Numeric_Sol(f, N , 0, 2, 0.5)[i],Analytic_Sol(N, 0, 2)[i]))"
   ]
  },
  {
   "cell_type": "markdown",
   "metadata": {},
   "source": [
    "## For N = 20"
   ]
  },
  {
   "cell_type": "code",
   "execution_count": 84,
   "metadata": {},
   "outputs": [
    {
     "name": "stdout",
     "output_type": "stream",
     "text": [
      " Numeric;  Analytic\n",
      "0.500000;  0.500000\n",
      "0.650000;  0.657415\n",
      "0.814000;  0.829299\n",
      "0.991400;  1.015071\n",
      "1.181540;  1.214088\n",
      "1.383694;  1.425639\n",
      "1.597063;  1.648941\n",
      "1.820770;  1.883124\n",
      "2.053847;  2.127230\n",
      "2.295231;  2.380198\n",
      "2.543755;  2.640859\n",
      "2.798130;  2.907917\n",
      "3.056943;  3.179942\n",
      "3.318637;  3.455352\n",
      "3.581501;  3.732400\n",
      "3.843651;  4.009155\n",
      "4.103016;  4.283484\n",
      "4.357318;  4.553026\n",
      "4.604050;  4.815176\n",
      "4.840455;  5.067053\n",
      "5.063500;  5.305472\n"
     ]
    }
   ],
   "source": [
    "N = 20\n",
    "print(' {};  {}'.format('Numeric','Analytic'))\n",
    "for i in range(N+1):\n",
    "    print('{:.6f};  {:.6f}'.format(Numeric_Sol(f, N , 0, 2, 0.5)[i],Analytic_Sol(N, 0, 2)[i]))"
   ]
  }
 ],
 "metadata": {
  "kernelspec": {
   "display_name": "Python 3",
   "language": "python",
   "name": "python3"
  },
  "language_info": {
   "codemirror_mode": {
    "name": "ipython",
    "version": 3
   },
   "file_extension": ".py",
   "mimetype": "text/x-python",
   "name": "python",
   "nbconvert_exporter": "python",
   "pygments_lexer": "ipython3",
   "version": "3.6.5"
  }
 },
 "nbformat": 4,
 "nbformat_minor": 2
}
