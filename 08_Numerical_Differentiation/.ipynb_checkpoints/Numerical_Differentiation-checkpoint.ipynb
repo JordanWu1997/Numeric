{
 "cells": [
  {
   "cell_type": "markdown",
   "metadata": {
    "Collapsed": "false"
   },
   "source": [
    "# Example 1:  $\\space f(x)=e^x-2x^2+3x-1$"
   ]
  },
  {
   "cell_type": "code",
   "execution_count": 1,
   "metadata": {
    "Collapsed": "false"
   },
   "outputs": [],
   "source": [
    "from math import sin, cos, exp\n",
    "from math import pi\n",
    "\n",
    "def f(x):\n",
    "    f = exp(x) - 2*x**2 + 3*x -1\n",
    "    return f\n",
    "\n",
    "def fd1(x):\n",
    "    f = exp(x) - 4*x + 3\n",
    "    return f\n",
    "\n",
    "def two_point(x, h):\n",
    "    df = (f(x+h) - f(x))/h\n",
    "    return df\n",
    "\n",
    "def three_point(x, h):\n",
    "    df = (f(x+h) - f(x-h))/2/h\n",
    "    return df\n",
    "    \n",
    "def five_point(x, h):\n",
    "    df = (f(x-2*h) - 8*f(x-h) + 8*f(x+h) - f(x+2*h))/12/h \n",
    "    return df"
   ]
  },
  {
   "cell_type": "code",
   "execution_count": 2,
   "metadata": {
    "Collapsed": "false"
   },
   "outputs": [
    {
     "name": "stdout",
     "output_type": "stream",
     "text": [
      "f'(0)=\n",
      "-----------------------------------\n",
      "2 point : 2.718282 ; AS : 4.000000\n",
      "3 point : 4.175201 ; AS : 4.000000\n",
      "5 point : 3.962458 ; AS : 4.000000\n",
      "-----------------------------------\n",
      "2 point : 3.928954 ; AS : 4.000000\n",
      "3 point : 4.000378 ; AS : 4.000000\n",
      "5 point : 4.000000 ; AS : 4.000000\n",
      "-----------------------------------\n",
      "2 point : 3.963514 ; AS : 4.000000\n",
      "3 point : 4.000099 ; AS : 4.000000\n",
      "5 point : 4.000000 ; AS : 4.000000\n",
      "-----------------------------------\n",
      "2 point : 3.975455 ; AS : 4.000000\n",
      "3 point : 4.000045 ; AS : 4.000000\n",
      "5 point : 4.000000 ; AS : 4.000000\n",
      "-----------------------------------\n",
      "2 point : 3.981507 ; AS : 4.000000\n",
      "3 point : 4.000025 ; AS : 4.000000\n",
      "5 point : 4.000000 ; AS : 4.000000\n",
      "-----------------------------------\n"
     ]
    }
   ],
   "source": [
    "h = 0.2\n",
    "print('f\\'(0)=')\n",
    "print('-----------------------------------')\n",
    "\n",
    "for i in range(1,100,20):\n",
    "    h = 1/i\n",
    "    print('2 point : %.6f ; AS : %.6f' % (two_point(0, h),fd1(0)))\n",
    "    print('3 point : %.6f ; AS : %.6f' % (three_point(0, h),fd1(0)))\n",
    "    print('5 point : %.6f ; AS : %.6f' % (five_point(0, h),fd1(0)))\n",
    "    print('-----------------------------------')"
   ]
  },
  {
   "cell_type": "code",
   "execution_count": 3,
   "metadata": {
    "Collapsed": "false"
   },
   "outputs": [
    {
     "name": "stdout",
     "output_type": "stream",
     "text": [
      "f'(0.2)=\n",
      "-----------------------------------\n",
      "2 point : 2.298714 ; AS : 3.421403\n",
      "3 point : 3.635394 ; AS : 3.421403\n",
      "5 point : 3.375549 ; AS : 3.421403\n",
      "-----------------------------------\n",
      "2 point : 3.355713 ; AS : 3.421403\n",
      "3 point : 3.421864 ; AS : 3.421403\n",
      "5 point : 3.421403 ; AS : 3.421403\n",
      "-----------------------------------\n",
      "2 point : 3.387639 ; AS : 3.421403\n",
      "3 point : 3.421524 ; AS : 3.421403\n",
      "5 point : 3.421403 ; AS : 3.421403\n",
      "-----------------------------------\n",
      "2 point : 3.398682 ; AS : 3.421403\n",
      "3 point : 3.421457 ; AS : 3.421403\n",
      "5 point : 3.421403 ; AS : 3.421403\n",
      "-----------------------------------\n",
      "2 point : 3.404282 ; AS : 3.421403\n",
      "3 point : 3.421434 ; AS : 3.421403\n",
      "5 point : 3.421403 ; AS : 3.421403\n",
      "-----------------------------------\n"
     ]
    }
   ],
   "source": [
    "h = 0.2\n",
    "print('f\\'(0.2)=')\n",
    "print('-----------------------------------')\n",
    "\n",
    "for i in range(1,100,20):\n",
    "    h = 1/i\n",
    "    print('2 point : %.6f ; AS : %.6f' % (two_point(0.2, h),fd1(0.2)))\n",
    "    print('3 point : %.6f ; AS : %.6f' % (three_point(0.2, h),fd1(0.2)))\n",
    "    print('5 point : %.6f ; AS : %.6f' % (five_point(0.2, h),fd1(0.2)))\n",
    "    print('-----------------------------------')"
   ]
  },
  {
   "cell_type": "code",
   "execution_count": 4,
   "metadata": {
    "Collapsed": "false"
   },
   "outputs": [
    {
     "name": "stdout",
     "output_type": "stream",
     "text": [
      "f'(0.4)=\n",
      "-----------------------------------\n",
      "2 point : 1.963375 ; AS : 2.891825\n",
      "3 point : 3.153194 ; AS : 2.891825\n",
      "5 point : 2.835819 ; AS : 2.891825\n",
      "-----------------------------------\n",
      "2 point : 2.832677 ; AS : 2.891825\n",
      "3 point : 2.892389 ; AS : 2.891825\n",
      "5 point : 2.891824 ; AS : 2.891825\n",
      "-----------------------------------\n",
      "2 point : 2.861386 ; AS : 2.891825\n",
      "3 point : 2.891973 ; AS : 2.891825\n",
      "5 point : 2.891825 ; AS : 2.891825\n",
      "-----------------------------------\n",
      "2 point : 2.871333 ; AS : 2.891825\n",
      "3 point : 2.891892 ; AS : 2.891825\n",
      "5 point : 2.891825 ; AS : 2.891825\n",
      "-----------------------------------\n",
      "2 point : 2.876380 ; AS : 2.891825\n",
      "3 point : 2.891863 ; AS : 2.891825\n",
      "5 point : 2.891825 ; AS : 2.891825\n",
      "-----------------------------------\n"
     ]
    }
   ],
   "source": [
    "h = 0.2\n",
    "print('f\\'(0.4)=')\n",
    "print('-----------------------------------')\n",
    "\n",
    "for i in range(1,100,20):\n",
    "    h = 1/i\n",
    "    print('2 point : %.6f ; AS : %.6f' % (two_point(0.4, h),fd1(0.4)))\n",
    "    print('3 point : %.6f ; AS : %.6f' % (three_point(0.4, h),fd1(0.4)))\n",
    "    print('5 point : %.6f ; AS : %.6f' % (five_point(0.4, h),fd1(0.4)))\n",
    "    print('-----------------------------------')"
   ]
  },
  {
   "cell_type": "markdown",
   "metadata": {
    "Collapsed": "false"
   },
   "source": [
    "# Example 2:  $\\space f(x)=sin(x)$"
   ]
  },
  {
   "cell_type": "code",
   "execution_count": 5,
   "metadata": {
    "Collapsed": "false"
   },
   "outputs": [],
   "source": [
    "from math import sin, cos\n",
    "from math import pi\n",
    "\n",
    "def f(x):\n",
    "    f = sin(x)\n",
    "    return f\n",
    "\n",
    "def fd1(x):\n",
    "    f = cos(x)\n",
    "    return f\n",
    "\n",
    "def two_point(x, h):\n",
    "    df = (f(x+h) - f(x))/h\n",
    "    return df\n",
    "\n",
    "def three_point(x, h):\n",
    "    df = (f(x+h) - f(x-h))/2/h\n",
    "    return df\n",
    "    \n",
    "def five_point(x, h):\n",
    "    df = (f(x-2*h) - 8*f(x-h) + 8*f(x+h) - f(x+2*h))/12/h \n",
    "    return df"
   ]
  },
  {
   "cell_type": "code",
   "execution_count": 6,
   "metadata": {
    "Collapsed": "false"
   },
   "outputs": [
    {
     "name": "stdout",
     "output_type": "stream",
     "text": [
      "f'(0.5)=\n",
      "-----------------------------------\n",
      "2 point : 0.518069 ; AS : 0.877583\n",
      "3 point : 0.738460 ; AS : 0.877583\n",
      "5 point : 0.851616 ; AS : 0.877583\n",
      "-----------------------------------\n",
      "2 point : 0.865838 ; AS : 0.877583\n",
      "3 point : 0.877251 ; AS : 0.877583\n",
      "5 point : 0.877582 ; AS : 0.877583\n",
      "-----------------------------------\n",
      "2 point : 0.871649 ; AS : 0.877583\n",
      "3 point : 0.877496 ; AS : 0.877583\n",
      "5 point : 0.877583 ; AS : 0.877583\n",
      "-----------------------------------\n",
      "2 point : 0.873614 ; AS : 0.877583\n",
      "3 point : 0.877543 ; AS : 0.877583\n",
      "5 point : 0.877583 ; AS : 0.877583\n",
      "-----------------------------------\n",
      "2 point : 0.874601 ; AS : 0.877583\n",
      "3 point : 0.877560 ; AS : 0.877583\n",
      "5 point : 0.877583 ; AS : 0.877583\n",
      "-----------------------------------\n"
     ]
    }
   ],
   "source": [
    "h = 0.1\n",
    "print('f\\'(0.5)=')\n",
    "print('-----------------------------------')\n",
    "\n",
    "for i in range(1,100,20):\n",
    "    h = 1/i\n",
    "    print('2 point : %.6f ; AS : %.6f' % (two_point(0.5, h),fd1(0.5)))\n",
    "    print('3 point : %.6f ; AS : %.6f' % (three_point(0.5, h),fd1(0.5)))\n",
    "    print('5 point : %.6f ; AS : %.6f' % (five_point(0.5, h),fd1(0.5)))\n",
    "    print('-----------------------------------')"
   ]
  },
  {
   "cell_type": "code",
   "execution_count": 7,
   "metadata": {
    "Collapsed": "false"
   },
   "outputs": [
    {
     "name": "stdout",
     "output_type": "stream",
     "text": [
      "f'(0.6)=\n",
      "-----------------------------------\n",
      "2 point : 0.434931 ; AS : 0.825336\n",
      "3 point : 0.694496 ; AS : 0.825336\n",
      "5 point : 0.800915 ; AS : 0.825336\n",
      "-----------------------------------\n",
      "2 point : 0.811582 ; AS : 0.825336\n",
      "3 point : 0.825024 ; AS : 0.825336\n",
      "5 point : 0.825335 ; AS : 0.825336\n",
      "-----------------------------------\n",
      "2 point : 0.818368 ; AS : 0.825336\n",
      "3 point : 0.825254 ; AS : 0.825336\n",
      "5 point : 0.825336 ; AS : 0.825336\n",
      "-----------------------------------\n",
      "2 point : 0.820671 ; AS : 0.825336\n",
      "3 point : 0.825299 ; AS : 0.825336\n",
      "5 point : 0.825336 ; AS : 0.825336\n",
      "-----------------------------------\n",
      "2 point : 0.821829 ; AS : 0.825336\n",
      "3 point : 0.825315 ; AS : 0.825336\n",
      "5 point : 0.825336 ; AS : 0.825336\n",
      "-----------------------------------\n"
     ]
    }
   ],
   "source": [
    "h = 0.1\n",
    "print('f\\'(0.6)=')\n",
    "print('-----------------------------------')\n",
    "\n",
    "for i in range(1,100,20):\n",
    "    h = 1/i\n",
    "    print('2 point : %.6f ; AS : %.6f' % (two_point(0.6, h),fd1(0.6)))\n",
    "    print('3 point : %.6f ; AS : %.6f' % (three_point(0.6, h),fd1(0.6)))\n",
    "    print('5 point : %.6f ; AS : %.6f' % (five_point(0.6, h),fd1(0.6)))\n",
    "    print('-----------------------------------')"
   ]
  },
  {
   "cell_type": "code",
   "execution_count": 8,
   "metadata": {
    "Collapsed": "false"
   },
   "outputs": [
    {
     "name": "stdout",
     "output_type": "stream",
     "text": [
      "f'(0.7)=\n",
      "-----------------------------------\n",
      "2 point : 0.347447 ; AS : 0.764842\n",
      "3 point : 0.643593 ; AS : 0.764842\n",
      "5 point : 0.742212 ; AS : 0.764842\n",
      "-----------------------------------\n",
      "2 point : 0.749218 ; AS : 0.764842\n",
      "3 point : 0.764553 ; AS : 0.764842\n",
      "5 point : 0.764842 ; AS : 0.764842\n",
      "-----------------------------------\n",
      "2 point : 0.756910 ; AS : 0.764842\n",
      "3 point : 0.764766 ; AS : 0.764842\n",
      "5 point : 0.764842 ; AS : 0.764842\n",
      "-----------------------------------\n",
      "2 point : 0.759528 ; AS : 0.764842\n",
      "3 point : 0.764808 ; AS : 0.764842\n",
      "5 point : 0.764842 ; AS : 0.764842\n",
      "-----------------------------------\n",
      "2 point : 0.760846 ; AS : 0.764842\n",
      "3 point : 0.764823 ; AS : 0.764842\n",
      "5 point : 0.764842 ; AS : 0.764842\n",
      "-----------------------------------\n"
     ]
    }
   ],
   "source": [
    "h = 0.1\n",
    "print('f\\'(0.7)=')\n",
    "print('-----------------------------------')\n",
    "\n",
    "for i in range(1,100,20):\n",
    "    h = 1/i\n",
    "    print('2 point : %.6f ; AS : %.6f' % (two_point(0.7, h),fd1(0.7)))\n",
    "    print('3 point : %.6f ; AS : %.6f' % (three_point(0.7, h),fd1(0.7)))\n",
    "    print('5 point : %.6f ; AS : %.6f' % (five_point(0.7, h),fd1(0.7)))\n",
    "    print('-----------------------------------')"
   ]
  },
  {
   "cell_type": "code",
   "execution_count": null,
   "metadata": {
    "Collapsed": "false"
   },
   "outputs": [],
   "source": []
  }
 ],
 "metadata": {
  "kernelspec": {
   "display_name": "Python 3",
   "language": "python",
   "name": "python3"
  },
  "language_info": {
   "codemirror_mode": {
    "name": "ipython",
    "version": 3
   },
   "file_extension": ".py",
   "mimetype": "text/x-python",
   "name": "python",
   "nbconvert_exporter": "python",
   "pygments_lexer": "ipython3",
   "version": "3.7.1"
  }
 },
 "nbformat": 4,
 "nbformat_minor": 4
}
