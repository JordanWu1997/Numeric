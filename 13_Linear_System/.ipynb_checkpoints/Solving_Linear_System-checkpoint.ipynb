{
 "cells": [
  {
   "cell_type": "markdown",
   "metadata": {
    "Collapsed": "false"
   },
   "source": [
    "<p><h1>Gaussian Elimination with Backward Substitution</h1></p>\n",
    "<table align='left'>\n",
    "    <tr>\n",
    "        <td><img src = 'Gaussian_Elimination_1.png' width='600' height='600' ></td>\n",
    "    </tr>\n",
    "    <tr>\n",
    "        <td><img src = 'Gaussian_Elimination_2.png' width='600' height='600' ></td>\n",
    "    </tr>\n",
    "    <tr>\n",
    "        <td><img src = 'Backward_Substitution.png' width='600' height='600' ></td>\n",
    "    </tr>\n",
    "    <tr>\n",
    "        <td><img src = 'Demo.png' width='600' height='600' ></td>\n",
    "    </tr>\n",
    "</table>"
   ]
  },
  {
   "cell_type": "markdown",
   "metadata": {
    "Collapsed": "false"
   },
   "source": [
    "<p><h1>Psuedo Code of Gaussian Elimination</h1><p>\n",
    "    \n",
    "<table align='left'>\n",
    "    <tr>\n",
    "        <td><img src = 'Pseudo_Code_of_Gaussian_Eilmination.png' width='600' height='600' ></td>\n",
    "    </tr>\n",
    "</table>"
   ]
  },
  {
   "cell_type": "markdown",
   "metadata": {
    "Collapsed": "false"
   },
   "source": [
    "<p><h1>Gaussian Elinmination with Backward Substitution</h1></p>"
   ]
  },
  {
   "cell_type": "code",
   "execution_count": 1,
   "metadata": {
    "Collapsed": "false"
   },
   "outputs": [],
   "source": [
    "def Gauss_Elim(Aug_mat):\n",
    "    \n",
    "    import copy as cp\n",
    "    import numpy as np\n",
    "    from sys import exit\n",
    "    \n",
    "    # Check if the input is legimate.\n",
    "    n,m = len(Aug_mat), len(Aug_mat[0])\n",
    "    if (m-n) != 1:\n",
    "        exit('Wrong Augment Matrix ...')    \n",
    "    \n",
    "    # The input is legimate.\n",
    "    else:\n",
    "        #------------------------------------------------------------------------------------------------------\n",
    "        \n",
    "        # Gaussian elimination\n",
    "        for i in range(n):\n",
    "            \n",
    "            # Print the elimination processes.\n",
    "            print('Aug_mat: row%i' % i)\n",
    "            print(Aug_mat)\n",
    "            print('\\n')\n",
    "            \n",
    "            # if pivot element is non-zero, do the elimination.\n",
    "            if Aug_mat[i][i] != 0:\n",
    "                for j in range(i, n-1):\n",
    "                    Aug_mat[j+1] = Aug_mat[j+1] - ((Aug_mat[j+1][i] / Aug_mat[i][i]) * Aug_mat[i])\n",
    "    \n",
    "            # else if pivot element is zero, do the change of permutation.\n",
    "            elif Aug_mat[i][i] == 0:\n",
    "                \n",
    "                # Find the nearest non-zero row.\n",
    "                A_tran = np.transpose(Aug_mat)\n",
    "                index = np.array(np.where(A_tran[i] != 0))\n",
    "                \n",
    "                # If the row is found, change the permutation between new row and original zero one.\n",
    "                if index != []:\n",
    "                    try:\n",
    "                        index = index[index > i][0]\n",
    "                        temp_a, temp_b = cp.deepcopy(Aug_mat[i]), cp.deepcopy(Aug_mat[index])\n",
    "                        Aug_mat[i], Aug_mat[index] = temp_b, temp_a\n",
    "                \n",
    "                    # If index is not larger than i, it means the previous row is found. -> no unique solution\n",
    "                    except IndexError:\n",
    "                        print('No unique solution exists ...')\n",
    "                        \n",
    "        #------------------------------------------------------------------------------------------------------\n",
    "        \n",
    "        # Check if there is a solution or not from the deducted Augment Matrix\n",
    "        for i in range(len(Aug_mat)):\n",
    "            test = list(Aug_mat[i])[:-1]\n",
    "            if any(test) != True: \n",
    "                value = Aug_mat[i][-1]\n",
    "                \n",
    "                # If there is no solution\n",
    "                if value != 0:\n",
    "                    exit('No solution exists ...')\n",
    "                    \n",
    "        #------------------------------------------------------------------------------------------------------\n",
    "                \n",
    "        # Backward Institution\n",
    "        x_list = np.zeros(n)\n",
    "        if Aug_mat[-1][-2] != 0:\n",
    "            x_list[-1] = (Aug_mat[-1][-1]/Aug_mat[-1][-2])\n",
    "        else:\n",
    "            exit()\n",
    "\n",
    "        for k in range(1,n):\n",
    "            i = (n-1)-k\n",
    "            all_sum = 0\n",
    "            for j in range(n):\n",
    "                all_sum += (Aug_mat[i][j] * x_list[j])\n",
    "            x_list[i] = (Aug_mat[i][-1] - all_sum) / Aug_mat[i][i]\n",
    "            \n",
    "        #------------------------------------------------------------------------------------------------------\n",
    "\n",
    "        # Print out results\n",
    "        if x_list[-1] != np.nan:\n",
    "            print('The result:')\n",
    "            for i in range(len(x_list)):\n",
    "                print('X%i = %.3f' % (i+1, x_list[i]))"
   ]
  },
  {
   "cell_type": "markdown",
   "metadata": {
    "Collapsed": "false"
   },
   "source": [
    "<p><h1>Example:</h1></p>\n",
    "<table align='left'>\n",
    "    <tr>\n",
    "        <td><img src = 'Example.png' width='300' height='200' ></td>\n",
    "    </tr>\n",
    "</table>"
   ]
  },
  {
   "cell_type": "code",
   "execution_count": 2,
   "metadata": {
    "Collapsed": "false"
   },
   "outputs": [
    {
     "name": "stdout",
     "output_type": "stream",
     "text": [
      "Aug_mat: row0\n",
      "[[  1  -1   2  -1  -8]\n",
      " [  2  -2   3  -3 -20]\n",
      " [  1   1   1   0  -2]\n",
      " [  1  -1   4   3   4]]\n",
      "\n",
      "\n",
      "Aug_mat: row1\n",
      "[[ 1 -1  2 -1 -8]\n",
      " [ 0  0 -1 -1 -4]\n",
      " [ 0  2 -1  1  6]\n",
      " [ 0  0  2  4 12]]\n",
      "\n",
      "\n",
      "Aug_mat: row2\n",
      "[[ 1 -1  2 -1 -8]\n",
      " [ 0  2 -1  1  6]\n",
      " [ 0  0 -1 -1 -4]\n",
      " [ 0  0  2  4 12]]\n",
      "\n",
      "\n",
      "Aug_mat: row3\n",
      "[[ 1 -1  2 -1 -8]\n",
      " [ 0  2 -1  1  6]\n",
      " [ 0  0 -1 -1 -4]\n",
      " [ 0  0  0  2  4]]\n",
      "\n",
      "\n",
      "The result:\n",
      "X1 = -7.000\n",
      "X2 = 3.000\n",
      "X3 = 2.000\n",
      "X4 = 2.000\n"
     ]
    },
    {
     "name": "stderr",
     "output_type": "stream",
     "text": [
      "/home/jordanwu/anaconda3/lib/python3.7/site-packages/ipykernel_launcher.py:37: DeprecationWarning: elementwise comparison failed; this will raise an error in the future.\n"
     ]
    }
   ],
   "source": [
    "import numpy as np\n",
    "\n",
    "# Input Augmented matrix\n",
    "Aug_matrix = np.array([[1, -1, 2, -1, -8],\n",
    "                       [2, -2, 3, -3, -20],\n",
    "                       [1,  1, 1,  0, -2],\n",
    "                       [1, -1, 4,  3,  4]])\n",
    "\n",
    "Gauss_Elim(Aug_matrix)"
   ]
  }
 ],
 "metadata": {
  "kernelspec": {
   "display_name": "Python 3",
   "language": "python",
   "name": "python3"
  },
  "language_info": {
   "codemirror_mode": {
    "name": "ipython",
    "version": 3
   },
   "file_extension": ".py",
   "mimetype": "text/x-python",
   "name": "python",
   "nbconvert_exporter": "python",
   "pygments_lexer": "ipython3",
   "version": "3.7.1"
  }
 },
 "nbformat": 4,
 "nbformat_minor": 4
}
