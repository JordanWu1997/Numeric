{
 "cells": [
  {
   "cell_type": "markdown",
   "metadata": {},
   "source": [
    "<p><h1>Introduction to Newton's Method</h1></p>"
   ]
  },
  {
   "cell_type": "markdown",
   "metadata": {},
   "source": [
    "<ul><li><h2>Introduction</h2></li><ul>\n",
    "    <table align='left'> \n",
    "    <tr><td><img src='./Newton_method.png' width='600' height='600'/></td></tr>\n",
    "        <tr><td><img src='./Newton_visualization.png' width='600' height='600'/></td></tr>\n",
    "    </table>"
   ]
  },
  {
   "cell_type": "markdown",
   "metadata": {},
   "source": [
    "<ul><li><h2>Convergence of Newton's Method</h2></li></ul>\n",
    "    <table align='left'> \n",
    "    <tr><td><img src='./Proof_of_convergence_1.png' width='600' height='600'/></td></tr>\n",
    "    <tr><td><img src='./Proof_of_convergence_2.png' width='600' height='600'/></td></tr>  \n",
    "    </table>"
   ]
  },
  {
   "cell_type": "markdown",
   "metadata": {},
   "source": [
    "<ul><li><h2>Limit of Newton's Method</h2></li></ul>\n",
    "    <table align='left'> \n",
    "    <tr><td><img src='./Limit_of_newton.png' width='600' height='600'/></td></tr>\n",
    "    </table>\n",
    "</ul>"
   ]
  },
  {
   "cell_type": "markdown",
   "metadata": {},
   "source": [
    "<h1>Introduction to Secant Method</h1>\n",
    "<table align='left'> \n",
    "<tr><td><img src='./Secant_method.png' width='600' height='600'/></td></tr>\n",
    "</table>"
   ]
  },
  {
   "cell_type": "markdown",
   "metadata": {},
   "source": [
    "<h1>Introduction to False Position</h1>\n",
    "<table align='left'> \n",
    "<tr><td><img src='./Introduction_of_false_position.png' width='600' height='600'/></td></tr>\n",
    "</table>"
   ]
  },
  {
   "cell_type": "markdown",
   "metadata": {},
   "source": [
    "<ul><li><h2>Visualization of Secant Method and False Position</h2></li></ul>\n",
    "<table align='left'> \n",
    "<tr><td><img src='./Visualization.png' width='600' height='600'/></td></tr>\n",
    "</table>"
   ]
  },
  {
   "cell_type": "markdown",
   "metadata": {},
   "source": [
    "<h1>Example: Newton's Method</h1>\n",
    "<h2><em>Pseudo Code of Newton's Method</em></h2>\n",
    "<table align='left'> \n",
    "<tr> <td><img src='./Pseudo_code_newton.png' width='600' height='600'/></td></tr>\n",
    "</table>"
   ]
  },
  {
   "cell_type": "code",
   "execution_count": 30,
   "metadata": {
    "scrolled": true
   },
   "outputs": [],
   "source": [
    "def Newton(f, fd1, sp, tol=1e-9, rnd=10):\n",
    "    \n",
    "    import numpy as np \n",
    "    point = [sp]\n",
    "    \n",
    "    for i in range(rnd):\n",
    "        if abs(f(point[i]) - tol) < tol:\n",
    "            break\n",
    "        else:\n",
    "            if fd1(point[i]) != 0:\n",
    "                point.append(point[i] - (f(point[i]) / fd1(point[i])))\n",
    "            else:\n",
    "                break\n",
    "    \n",
    "    if abs(f(point[-1])) > tol:\n",
    "        print('Newton\\'s method failed.')\n",
    "        return np.nan\n",
    "    else:\n",
    "        print('The root is %.3f' % point[-1])\n",
    "        return point[-1]"
   ]
  },
  {
   "cell_type": "code",
   "execution_count": 31,
   "metadata": {},
   "outputs": [
    {
     "name": "stdout",
     "output_type": "stream",
     "text": [
      "The root is 0.739\n"
     ]
    }
   ],
   "source": [
    "import math\n",
    "\n",
    "def f(x):\n",
    "    y = math.cos(x) - x\n",
    "    return y\n",
    "\n",
    "def fd1(x):\n",
    "    y = -math.sin(x) - 1\n",
    "    return y\n",
    "    \n",
    "NW1 = Newton(f, fd1, 0.5)"
   ]
  },
  {
   "cell_type": "markdown",
   "metadata": {},
   "source": [
    "<h1>Example: Secant Method</h1>\n",
    "<h2><em>Pseudo Code of Secant Method</em></h2>\n",
    "<table align='left'> \n",
    "<tr> \n",
    "<td><img src='./Pseudo_code_secant_method.png' width='600' height='600'/></td>\n",
    "</tr>\n",
    "</table>"
   ]
  },
  {
   "cell_type": "code",
   "execution_count": 33,
   "metadata": {},
   "outputs": [],
   "source": [
    "def Secant(f, sp1, sp2, tol=1e-9, rnd=10):\n",
    "    \n",
    "    import numpy as np \n",
    "    point = [sp1, sp2]\n",
    "    \n",
    "    for i in range(rnd+2):\n",
    "        if abs(f(point[i])) < tol:\n",
    "            break\n",
    "        else:\n",
    "            if (f(point[i+1])-f(point[i])) != 0:\n",
    "                point.append(point[i+1]-(f(point[i+1]) * (point[i+1]-point[i]) / (f(point[i+1])-f(point[i])))) \n",
    "            else:\n",
    "                break\n",
    "    \n",
    "    if abs(f(point[-1])) > tol:\n",
    "        print('Secant method failed.')\n",
    "        return np.nan\n",
    "    else:\n",
    "        print('The root is %.3f' % point[-1])\n",
    "        return point[-1]"
   ]
  },
  {
   "cell_type": "code",
   "execution_count": 32,
   "metadata": {},
   "outputs": [
    {
     "name": "stdout",
     "output_type": "stream",
     "text": [
      "The root is 0.739\n"
     ]
    }
   ],
   "source": [
    "def f(x):\n",
    "    y = math.cos(x) - x\n",
    "    return y\n",
    "\n",
    "SC1 = Secant(f, 0.1, 0.9)"
   ]
  },
  {
   "cell_type": "markdown",
   "metadata": {},
   "source": [
    "<h1>Example: False Position Method</h1>\n",
    "<h2><em>Pseudo Code of False Position Method</em></h2>\n",
    "<table align='left'> \n",
    "<tr> \n",
    "<td><img src='./Pseudo_code_false_position_1.png' width='600' height='600'/></td>\n",
    "</tr>\n",
    "<tr>\n",
    "<td><img src='./Pseudo_code_false_position_2.png' width='600' height='600'/></td> \n",
    "</tr>  \n",
    "</table>"
   ]
  },
  {
   "cell_type": "code",
   "execution_count": 35,
   "metadata": {},
   "outputs": [],
   "source": [
    "def False_Position(f, sp1, sp2, tol=1e-9, rnd=10):\n",
    "    \n",
    "    import numpy as np \n",
    "    point = [sp1, sp2]\n",
    " \n",
    "    if f(point[1])-f(point[0]) != 0:  \n",
    "        point.append(f(point[1])-(f(point[0]) * (point[1]-point[0]) / (f(point[1])-f(point[0]))))\n",
    "    else:\n",
    "        print('Error: Wrong start points')\n",
    "        return np.nan\n",
    "    \n",
    "    for i in range(rnd+2):\n",
    "        if abs(f(point[i])) < tol:\n",
    "            break\n",
    "        else:\n",
    "            #since p1*p2 < 0, if p2*p3 < 0, we choose p2,p3 for secant method\n",
    "            #otherwise, we choose p1,p3 for secant method.\n",
    "\n",
    "            if f(point[i])*f(point[i+1]) < 0:\n",
    "                if (f(point[i+2])-f(point[i])) != 0:\n",
    "                    point.append(point[i+2]-(f(point[i+2]) * (point[i+2]-point[i+1]) / (f(point[i+2])-f(point[i+1]))))\n",
    "                else:\n",
    "                    print('False-position method failed')\n",
    "                    return np.nan\n",
    "                    break\n",
    "                    \n",
    "            elif f(point[i])*f(point[i+1]) > 0:\n",
    "                if (f(point[i+2])-f(point[i])) != 0:\n",
    "                    point.append(point[i+2]-(f(point[i+2]) * (point[i+2]-point[i]) / (f(point[i+2])-f(point[i])))) \n",
    "                else:\n",
    "                    print('False-position method failed')\n",
    "                    return np.nan\n",
    "                    break\n",
    "    \n",
    "    if abs(f(point[-1])) > tol:\n",
    "        print('Secant method failed.')\n",
    "        return np.nan\n",
    "    else:\n",
    "        print('The root is %.3f' % point[-1])\n",
    "        return point[-1]"
   ]
  },
  {
   "cell_type": "code",
   "execution_count": 34,
   "metadata": {},
   "outputs": [
    {
     "name": "stdout",
     "output_type": "stream",
     "text": [
      "The root is 0.739\n"
     ]
    },
    {
     "data": {
      "text/plain": [
       "0.7390851332151607"
      ]
     },
     "execution_count": 34,
     "metadata": {},
     "output_type": "execute_result"
    }
   ],
   "source": [
    "def f(x):\n",
    "    y = math.cos(x) - x\n",
    "    return y\n",
    "    \n",
    "False_Position(f, 0.1, 0.9)"
   ]
  }
 ],
 "metadata": {
  "kernelspec": {
   "display_name": "Python 3",
   "language": "python",
   "name": "python3"
  },
  "language_info": {
   "codemirror_mode": {
    "name": "ipython",
    "version": 3
   },
   "file_extension": ".py",
   "mimetype": "text/x-python",
   "name": "python",
   "nbconvert_exporter": "python",
   "pygments_lexer": "ipython3",
   "version": "3.7.1"
  }
 },
 "nbformat": 4,
 "nbformat_minor": 2
}
