{
 "cells": [
  {
   "cell_type": "markdown",
   "metadata": {},
   "source": [
    "<p><h1>Psuedo Code of Gaussian Elimination</h1><p>\n",
    "    \n",
    "<table align='left'>\n",
    "    <tr>\n",
    "        <td><img src = 'Pseudo_Code_of_Gaussian_Eilmination.png' width='600' height='600' ></td>\n",
    "    </tr>\n",
    "</table>"
   ]
  },
  {
   "cell_type": "markdown",
   "metadata": {},
   "source": [
    "<p><h1>Example:</h1></p>\n",
    "<table align='left'>\n",
    "    <tr>\n",
    "        <td><img src = 'Example.png' width='600' height='600' ></td>\n",
    "    </tr>\n",
    "</table>"
   ]
  },
  {
   "cell_type": "code",
   "execution_count": 108,
   "metadata": {},
   "outputs": [],
   "source": [
    "def Gauss_Elim(Aug_mat):\n",
    "    \n",
    "    import copy as cp\n",
    "    import numpy as np\n",
    "    from sys import exit\n",
    "    \n",
    "    # Check if the input is legimate.\n",
    "    n,m = len(Aug_mat), len(Aug_mat[0])\n",
    "    if (m-n) != 1:\n",
    "        print('Wrong Augment Matrix ...')\n",
    "        exit()    \n",
    "    \n",
    "    else:\n",
    "        for i in range(n-1):\n",
    "            \n",
    "            # if pivot element is non-zero, do the elimination.\n",
    "            if Aug_mat[i][i] != 0:\n",
    "                for j in range(i, n-1):\n",
    "                    Aug_mat[j+1] = (Aug_mat[j+1] - (Aug_mat[j+1][i] / Aug_mat[i][i]) * Aug_mat[i])\n",
    "    \n",
    "            # else if pivot element is non-zero, do the change of permutation.\n",
    "            elif Aug_mat[i][i] == 0:\n",
    "                \n",
    "                # Find the nearest non-zero row.\n",
    "                A_tran = np.transpose(Aug_mat)\n",
    "                index = np.array(np.where(A_tran[i] != 0))\n",
    "                \n",
    "                # If the row is found, change the permutation between new row and original zero one.\n",
    "                if index != []:\n",
    "                    try:\n",
    "                        index = index[index > i][0]                \n",
    "                        temp_a, temp_b = cp.deepcopy(Aug_mat[i]), cp.deepcopy(Aug_mat[index])\n",
    "                        Aug_mat[i], Aug_mat[index] = temp_b, temp_a\n",
    "                \n",
    "                    # If index is not larger than i, it means the previous row is found, which has done elimination\n",
    "                    except IndexError:\n",
    "                        print('No unique solution exists ...')\n",
    "                        break\n",
    "                \n",
    "                    # After permutation changing, do the elimination.\n",
    "                    for j in range(i, n-1):\n",
    "                        Aug_mat[j+1] = (Aug_mat[j+1] - (Aug_mat[j+1][i]/Aug_mat[i][i]) * Aug_mat[i])\n",
    "            \n",
    "            # Print the elimination process\n",
    "            print('Aug_mat: %i' % i)\n",
    "            print(Aug_mat)\n",
    "            print('\\n')\n",
    "    \n",
    "        # Check if there is a solution or not from deducted Augment Matrix\n",
    "        test = list(Aug_mat[-1])[:-1]\n",
    "        if any(test) != True: \n",
    "            value = Aug_mat[i][-1]\n",
    "            \n",
    "            # There is no unique solution\n",
    "            if value == 0:\n",
    "                print('No unique solution exists ...')\n",
    "                exit()\n",
    "            # There is no solution\n",
    "            else:\n",
    "                print('No solution exists ...')\n",
    "                exit()\n",
    "                \n",
    "        # Backward Institution\n",
    "        x_list = np.zeros(n)\n",
    "        x_list[-1] = (Aug_mat[-1][-1]/Aug_mat[-1][-2])\n",
    "        for k in range(1,n):\n",
    "            i = (n-1)-k\n",
    "            all_sum = 0\n",
    "            for j in range(0,n):\n",
    "                all_sum += (Aug_mat[i][j] * x_list[j])\n",
    "            x_list[i] = (Aug_mat[i][-1] - all_sum) / Aug_mat[i][i]\n",
    "\n",
    "        # Print out results\n",
    "        if x_list[-1] != np.nan:\n",
    "            print('The result:')\n",
    "            for i in range(len(x_list)):\n",
    "                print('X%i = %.3f' % (i+1, x_list[i]))"
   ]
  },
  {
   "cell_type": "markdown",
   "metadata": {},
   "source": [
    "<p><h1>Print out results</h1></p>"
   ]
  },
  {
   "cell_type": "code",
   "execution_count": 109,
   "metadata": {},
   "outputs": [
    {
     "name": "stdout",
     "output_type": "stream",
     "text": [
      "Aug_mat: 0\n",
      "[[ 1 -1  2 -1 -8]\n",
      " [ 0  0 -1 -1 -4]\n",
      " [ 0  2 -1  1  6]\n",
      " [ 0  0  2  4 12]]\n",
      "\n",
      "\n",
      "Aug_mat: 1\n",
      "[[ 1 -1  2 -1 -8]\n",
      " [ 0  2 -1  1  6]\n",
      " [ 0  0 -1 -1 -4]\n",
      " [ 0  0  2  4 12]]\n",
      "\n",
      "\n",
      "Aug_mat: 2\n",
      "[[ 1 -1  2 -1 -8]\n",
      " [ 0  2 -1  1  6]\n",
      " [ 0  0 -1 -1 -4]\n",
      " [ 0  0  0  2  4]]\n",
      "\n",
      "\n",
      "The result:\n",
      "X1 = -7.000\n",
      "X2 = 3.000\n",
      "X3 = 2.000\n",
      "X4 = 2.000\n"
     ]
    },
    {
     "name": "stderr",
     "output_type": "stream",
     "text": [
      "/home/jordanwu/anaconda3/lib/python3.6/site-packages/ipykernel_launcher.py:29: DeprecationWarning: elementwise != comparison failed; this will raise an error in the future.\n"
     ]
    }
   ],
   "source": [
    "# Input Augmented matrix\n",
    "Aug_matrix = np.array([[1, -1, 2, -1, -8],\n",
    "                       [2, -2, 3, -3, -20],\n",
    "                       [1,  1, 1,  0, -2],\n",
    "                       [1, -1, 4,  3,  4]])\n",
    "\n",
    "Gauss_Elim(Aug_matrix)"
   ]
  },
  {
   "cell_type": "code",
   "execution_count": null,
   "metadata": {},
   "outputs": [],
   "source": []
  }
 ],
 "metadata": {
  "kernelspec": {
   "display_name": "Python 3",
   "language": "python",
   "name": "python3"
  },
  "language_info": {
   "codemirror_mode": {
    "name": "ipython",
    "version": 3
   },
   "file_extension": ".py",
   "mimetype": "text/x-python",
   "name": "python",
   "nbconvert_exporter": "python",
   "pygments_lexer": "ipython3",
   "version": "3.6.5"
  }
 },
 "nbformat": 4,
 "nbformat_minor": 2
}
